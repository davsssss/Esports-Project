{
  "nbformat": 4,
  "nbformat_minor": 0,
  "metadata": {
    "colab": {
      "provenance": []
    },
    "kernelspec": {
      "name": "python3",
      "display_name": "Python 3"
    },
    "language_info": {
      "name": "python"
    }
  },
  "cells": [
    {
      "cell_type": "code",
      "source": [
        "!pip install pyspark"
      ],
      "metadata": {
        "colab": {
          "base_uri": "https://localhost:8080/"
        },
        "id": "NlIanQwuM1Va",
        "outputId": "d0f74634-0c56-4da5-de09-80fb7ef6cd54"
      },
      "execution_count": 1,
      "outputs": [
        {
          "output_type": "stream",
          "name": "stdout",
          "text": [
            "Requirement already satisfied: pyspark in /usr/local/lib/python3.10/dist-packages (3.5.0)\n",
            "Requirement already satisfied: py4j==0.10.9.7 in /usr/local/lib/python3.10/dist-packages (from pyspark) (0.10.9.7)\n"
          ]
        }
      ]
    },
    {
      "cell_type": "code",
      "execution_count": 2,
      "metadata": {
        "id": "5vZPAsZ6jorl",
        "colab": {
          "base_uri": "https://localhost:8080/"
        },
        "outputId": "8ea5fcbd-837d-40ca-99da-ca4f355c81ad"
      },
      "outputs": [
        {
          "output_type": "stream",
          "name": "stdout",
          "text": [
            "Mounted at /content/gdrive\n"
          ]
        }
      ],
      "source": [
        "#Connect to Google Drive where the files are\n",
        "from google.colab import drive\n",
        "drive.mount('/content/gdrive')"
      ]
    },
    {
      "cell_type": "code",
      "source": [
        "import os\n",
        "import functools\n",
        "\n",
        "spark_version = 'spark-3.5.0'\n",
        "os.environ['SPARK_VERSION']=spark_version\n",
        "\n",
        "# Install Spark and Java\n",
        "!apt-get update\n",
        "!apt-get install openjdk-11-jdk-headless -qq > /dev/null\n",
        "!wget -q http://www.apache.org/dist/spark/$SPARK_VERSION/$SPARK_VERSION-bin-hadoop3.tgz\n",
        "!tar xf $SPARK_VERSION-bin-hadoop3.tgz\n",
        "!pip install -q findspark\n",
        "\n",
        "# Set Environment Variables\n",
        "os.environ[\"JAVA_HOME\"] = \"/usr/lib/jvm/java-11-openjdk-amd64\"\n",
        "os.environ[\"SPARK_HOME\"] = f\"/content/{spark_version}-bin-hadoop3\"\n",
        "\n",
        "# Start a SparkSession\n",
        "import findspark\n",
        "findspark.init()"
      ],
      "metadata": {
        "colab": {
          "base_uri": "https://localhost:8080/"
        },
        "id": "l_F7xOAKHW-h",
        "outputId": "c17b9854-a759-4689-c413-35678c997361"
      },
      "execution_count": 3,
      "outputs": [
        {
          "output_type": "stream",
          "name": "stdout",
          "text": [
            "\r0% [Working]\r            \rHit:1 http://security.ubuntu.com/ubuntu jammy-security InRelease\n",
            "\r0% [Connecting to archive.ubuntu.com] [Connected to cloud.r-project.org (108.157.162.110)] [Connecti\r                                                                                                    \rHit:2 https://developer.download.nvidia.com/compute/cuda/repos/ubuntu2204/x86_64  InRelease\n",
            "\r0% [Connecting to archive.ubuntu.com (91.189.91.81)] [Waiting for headers] [Connecting to ppa.launch\r                                                                                                    \rHit:3 https://cloud.r-project.org/bin/linux/ubuntu jammy-cran40/ InRelease\n",
            "\r                                                                                                    \r0% [Waiting for headers] [Connected to ppa.launchpadcontent.net (185.125.190.80)]\r                                                                                 \rHit:4 http://archive.ubuntu.com/ubuntu jammy InRelease\n",
            "\r                                                                                 \r0% [Connected to ppa.launchpadcontent.net (185.125.190.80)]\r                                                           \rHit:5 http://archive.ubuntu.com/ubuntu jammy-updates InRelease\n",
            "Hit:6 http://archive.ubuntu.com/ubuntu jammy-backports InRelease\n",
            "Hit:7 https://ppa.launchpadcontent.net/c2d4u.team/c2d4u4.0+/ubuntu jammy InRelease\n",
            "Hit:8 https://ppa.launchpadcontent.net/deadsnakes/ppa/ubuntu jammy InRelease\n",
            "Hit:9 https://ppa.launchpadcontent.net/graphics-drivers/ppa/ubuntu jammy InRelease\n",
            "Hit:10 https://ppa.launchpadcontent.net/ubuntugis/ppa/ubuntu jammy InRelease\n",
            "Reading package lists... Done\n"
          ]
        }
      ]
    },
    {
      "cell_type": "code",
      "source": [
        "#Start Spark Session\n",
        "from pyspark.sql import SparkSession\n",
        "\n",
        "spark = SparkSession.builder\\\n",
        "    .appName(\"SparkSQL\")\\\n",
        "    .config(\"spark.sql.debug.maxToStringFields\", 2000)\\\n",
        "    .config(\"spark.driver.memory\", \"2g\")\\\n",
        "    .getOrCreate()\n",
        "\n",
        "spark.conf.set(\"spark.sql.shuffle.partitions\", 8)"
      ],
      "metadata": {
        "id": "RsVjgxa4KUM2"
      },
      "execution_count": 4,
      "outputs": []
    },
    {
      "cell_type": "code",
      "source": [
        "#Read files into notebook\n",
        "\n",
        "#File Structure r\"/content/gdrive/MyDrive/Colab_Notebooks/Resources\"\n",
        "from pyspark import SparkFiles\n",
        "from functools import reduce\n",
        "from pyspark.sql import DataFrame\n",
        "\n",
        "path1 = \"/content/gdrive/MyDrive/Colab_Notebooks/Resources/2014_LoL_esports_match_data_from_OraclesElixir.csv\"\n",
        "spark.sparkContext.addFile(path1)\n",
        "LoL_Match_df2014 = spark.read.csv(SparkFiles.get(\"2014_LoL_esports_match_data_from_OraclesElixir.csv\"), sep=\",\", header=True)\n",
        "\n",
        "path2 = \"/content/gdrive/MyDrive/Colab_Notebooks/Resources/2015_LoL_esports_match_data_from_OraclesElixir.csv\"\n",
        "spark.sparkContext.addFile(path2)\n",
        "LoL_Match_df2015 = spark.read.csv(SparkFiles.get(\"2015_LoL_esports_match_data_from_OraclesElixir.csv\"), sep=\",\", header=True)\n",
        "\n",
        "path3 = \"/content/gdrive/MyDrive/Colab_Notebooks/Resources/2016_LoL_esports_match_data_from_OraclesElixir.csv\"\n",
        "spark.sparkContext.addFile(path3)\n",
        "LoL_Match_df2016 = spark.read.csv(SparkFiles.get(\"2016_LoL_esports_match_data_from_OraclesElixir.csv\"), sep=\",\", header=True)\n",
        "\n",
        "path4 = \"/content/gdrive/MyDrive/Colab_Notebooks/Resources/2017_LoL_esports_match_data_from_OraclesElixir.csv\"\n",
        "spark.sparkContext.addFile(path4)\n",
        "LoL_Match_df2017 = spark.read.csv(SparkFiles.get(\"2017_LoL_esports_match_data_from_OraclesElixir.csv\"), sep=\",\", header=True)\n",
        "\n",
        "path5 = \"/content/gdrive/MyDrive/Colab_Notebooks/Resources/2018_LoL_esports_match_data_from_OraclesElixir.csv\"\n",
        "spark.sparkContext.addFile(path5)\n",
        "LoL_Match_df2018 = spark.read.csv(SparkFiles.get(\"2018_LoL_esports_match_data_from_OraclesElixir.csv\"), sep=\",\", header=True)\n",
        "\n",
        "path6 = \"/content/gdrive/MyDrive/Colab_Notebooks/Resources/2019_LoL_esports_match_data_from_OraclesElixir.csv\"\n",
        "spark.sparkContext.addFile(path6)\n",
        "LoL_Match_df2019 = spark.read.csv(SparkFiles.get(\"2019_LoL_esports_match_data_from_OraclesElixir.csv\"), sep=\",\", header=True)\n",
        "\n",
        "path7 = \"/content/gdrive/MyDrive/Colab_Notebooks/Resources/2020_LoL_esports_match_data_from_OraclesElixir.csv\"\n",
        "spark.sparkContext.addFile(path7)\n",
        "LoL_Match_df2020 = spark.read.csv(SparkFiles.get(\"2020_LoL_esports_match_data_from_OraclesElixir.csv\"), sep=\",\", header=True)\n",
        "\n",
        "path8 = \"/content/gdrive/MyDrive/Colab_Notebooks/Resources/2021_LoL_esports_match_data_from_OraclesElixir.csv\"\n",
        "spark.sparkContext.addFile(path8)\n",
        "LoL_Match_df2021 = spark.read.csv(SparkFiles.get(\"2021_LoL_esports_match_data_from_OraclesElixir.csv\"), sep=\",\", header=True)\n",
        "\n",
        "path9 = \"/content/gdrive/MyDrive/Colab_Notebooks/Resources/2022_LoL_esports_match_data_from_OraclesElixir.csv\"\n",
        "spark.sparkContext.addFile(path9)\n",
        "LoL_Match_df2022 = spark.read.csv(SparkFiles.get(\"2022_LoL_esports_match_data_from_OraclesElixir.csv\"), sep=\",\", header=True)\n",
        "\n",
        "path10 = \"/content/gdrive/MyDrive/Colab_Notebooks/Resources/2023_LoL_esports_match_data_from_OraclesElixir.csv\"\n",
        "spark.sparkContext.addFile(path10)\n",
        "LoL_Match_df2023 = spark.read.csv(SparkFiles.get(\"2023_LoL_esports_match_data_from_OraclesElixir.csv\"), sep=\",\", header=True)\n",
        "\n",
        "LoL_Match_df2023.show()"
      ],
      "metadata": {
        "id": "KWmVvUO7p42i",
        "colab": {
          "base_uri": "https://localhost:8080/"
        },
        "outputId": "e5660a88-13e3-47c6-b39c-1768c9a925ac"
      },
      "execution_count": 5,
      "outputs": [
        {
          "output_type": "stream",
          "name": "stdout",
          "text": [
            "+--------------------+----------------+----+------+----+------+--------+-------------------+----+-----+-------------+----+--------+----------+--------------------+-------------+--------------------+--------+------------+-------+-------+--------+-----+----------+------+-----+------+-------+---------+----------+-----------+-----------+-----------+----------+----------+--------------+----------------+----------------+--------+------+-----------+-------+-----------+---------------+-------------------+---------+---------+------+------+---------+--------+----------------------+------+----------+-----------+-------+-----------+----------+------+----------+----------+------+----------+-------------+------------------+------------+----------------+----------+--------------+-----------------+---------+-----------+--------------------+------------------------+-----------+------+-----------+------+------------------+-----------+------+---------+----------+----------+---------------+---------+----------+--------+-----------+------------+---------------------+-----------------------+-------+--------+------+------+------------+----------+----------+------------+----------+----------+---------+-----------+----------+-------------+---------------+--------------+--------+------+------+------------+----------+----------+------------+----------+----------+---------+-----------+----------+-------------+---------------+--------------+\n",
            "|              gameid|datacompleteness| url|league|year| split|playoffs|               date|game|patch|participantid|side|position|playername|            playerid|     teamname|              teamid|champion|        ban1|   ban2|   ban3|    ban4| ban5|gamelength|result|kills|deaths|assists|teamkills|teamdeaths|doublekills|triplekills|quadrakills|pentakills|firstblood|firstbloodkill|firstbloodassist|firstbloodvictim|team kpm|  ckpm|firstdragon|dragons|opp_dragons|elementaldrakes|opp_elementaldrakes|infernals|mountains|clouds|oceans|chemtechs|hextechs|dragons (type unknown)|elders|opp_elders|firstherald|heralds|opp_heralds|firstbaron|barons|opp_barons|firsttower|towers|opp_towers|firstmidtower|firsttothreetowers|turretplates|opp_turretplates|inhibitors|opp_inhibitors|damagetochampions|      dpm|damageshare|damagetakenperminute|damagemitigatedperminute|wardsplaced|   wpm|wardskilled|  wcpm|controlwardsbought|visionscore|  vspm|totalgold|earnedgold|earned gpm|earnedgoldshare|goldspent|      gspd|total cs|minionkills|monsterkills|monsterkillsownjungle|monsterkillsenemyjungle|   cspm|goldat10|xpat10|csat10|opp_goldat10|opp_xpat10|opp_csat10|golddiffat10|xpdiffat10|csdiffat10|killsat10|assistsat10|deathsat10|opp_killsat10|opp_assistsat10|opp_deathsat10|goldat15|xpat15|csat15|opp_goldat15|opp_xpat15|opp_csat15|golddiffat15|xpdiffat15|csdiffat15|killsat15|assistsat15|deathsat15|opp_killsat15|opp_assistsat15|opp_deathsat15|\n",
            "+--------------------+----------------+----+------+----+------+--------+-------------------+----+-----+-------------+----+--------+----------+--------------------+-------------+--------------------+--------+------------+-------+-------+--------+-----+----------+------+-----+------+-------+---------+----------+-----------+-----------+-----------+----------+----------+--------------+----------------+----------------+--------+------+-----------+-------+-----------+---------------+-------------------+---------+---------+------+------+---------+--------+----------------------+------+----------+-----------+-------+-----------+----------+------+----------+----------+------+----------+-------------+------------------+------------+----------------+----------+--------------+-----------------+---------+-----------+--------------------+------------------------+-----------+------+-----------+------+------------------+-----------+------+---------+----------+----------+---------------+---------+----------+--------+-----------+------------+---------------------+-----------------------+-------+--------+------+------+------------+----------+----------+------------+----------+----------+---------+-----------+----------+-------------+---------------+--------------+--------+------+------+------------+----------+----------+------------+----------+----------+---------+-----------+----------+-------------+---------------+--------------+\n",
            "|ESPORTSTMNT06_275...|        complete|NULL|  LFL2|2023|Spring|       0|2023-01-10 17:07:16|   1|13.01|            1|Blue|     top|    Wylenz|oe:player:60aff11...|Klanik Esport|oe:team:0ade5e44c...|     Jax|       Sylas|Caitlyn| Wukong|   Akali| Yone|      2612|     1|    4|     0|      6|       13|         7|          1|          1|          0|         0|         0|             0|               0|               0|  0.2986|0.4594|       NULL|   NULL|       NULL|           NULL|               NULL|     NULL|     NULL|  NULL|  NULL|     NULL|    NULL|                  NULL|  NULL|      NULL|       NULL|   NULL|       NULL|      NULL|     0|         0|      NULL|  NULL|      NULL|         NULL|              NULL|        NULL|            NULL|         1|             0|            14283| 328.0934|   0.150027|            719.5406|                878.9127|         20|0.4594|          5|0.1149|                11|         49|1.1256|    18855|     13251|  304.3874|       0.295868|    15955|      NULL|     399|        367|          32|                 NULL|                   NULL| 9.1654|    3163|  4772|    83|        3087|      4814|        81|          76|       -42|         2|        0|          0|         0|            0|              0|             0|    5059|  7946|   143|        4737|      7683|       131|         322|       263|        12|        0|          0|         0|            0|              0|             0|\n",
            "|ESPORTSTMNT06_275...|        complete|NULL|  LFL2|2023|Spring|       0|2023-01-10 17:07:16|   1|13.01|            2|Blue|     jng|     Julbu|oe:player:fd78e12...|Klanik Esport|oe:team:0ade5e44c...|   Poppy|       Sylas|Caitlyn| Wukong|   Akali| Yone|      2612|     1|    2|     2|      4|       13|         7|          0|          0|          0|         0|         0|             0|               0|               0|  0.2986|0.4594|       NULL|   NULL|       NULL|           NULL|               NULL|     NULL|     NULL|  NULL|  NULL|     NULL|    NULL|                  NULL|  NULL|      NULL|       NULL|   NULL|       NULL|      NULL|     1|         0|      NULL|  NULL|      NULL|         NULL|              NULL|        NULL|            NULL|         0|             0|             6219| 142.8560|  0.0653236|            847.3047|               1513.9663|         18|0.4135|         11|0.2527|                17|         61|1.4012|    12082|      6478|  148.8055|        0.14464|    11675|      NULL|     159|         23|         136|                 NULL|                   NULL| 3.6524|    3035|  3302|    54|        2948|      3140|        66|          87|       162|       -12|        0|          0|         0|            0|              0|             0|    4325|  4637|    74|        4682|      5960|       117|        -357|     -1323|       -43|        0|          0|         0|            0|              0|             0|\n",
            "|ESPORTSTMNT06_275...|        complete|NULL|  LFL2|2023|Spring|       0|2023-01-10 17:07:16|   1|13.01|            3|Blue|     mid|    Sintax|oe:player:baf7147...|Klanik Esport|oe:team:0ade5e44c...| Taliyah|       Sylas|Caitlyn| Wukong|   Akali| Yone|      2612|     1|    2|     2|     11|       13|         7|          0|          0|          0|         0|         0|             0|               0|               0|  0.2986|0.4594|       NULL|   NULL|       NULL|           NULL|               NULL|     NULL|     NULL|  NULL|  NULL|     NULL|    NULL|                  NULL|  NULL|      NULL|       NULL|   NULL|       NULL|      NULL|     0|         0|      NULL|  NULL|      NULL|         NULL|              NULL|        NULL|            NULL|         0|             0|            27028| 620.8576|   0.283899|            365.3522|                323.7289|         23|0.5283|         10|0.2297|                 7|         49|1.1256|    15722|     10118|  232.4196|       0.225914|    14525|      NULL|     337|        287|          50|                 NULL|                   NULL| 7.7412|    3117|  4927|    85|        3455|      5174|       103|        -338|      -247|       -18|        0|          0|         0|            0|              0|             0|    4956|  7772|   136|        5435|      8096|       162|        -479|      -324|       -26|        0|          0|         0|            0|              0|             0|\n",
            "|ESPORTSTMNT06_275...|        complete|NULL|  LFL2|2023|Spring|       0|2023-01-10 17:07:16|   1|13.01|            4|Blue|     bot|   Axelent|oe:player:8204ca3...|Klanik Esport|oe:team:0ade5e44c...|  Ezreal|       Sylas|Caitlyn| Wukong|   Akali| Yone|      2612|     1|    5|     1|      7|       13|         7|          0|          0|          0|         0|         0|             0|               0|               0|  0.2986|0.4594|       NULL|   NULL|       NULL|           NULL|               NULL|     NULL|     NULL|  NULL|  NULL|     NULL|    NULL|                  NULL|  NULL|      NULL|       NULL|   NULL|       NULL|      NULL|     0|         0|      NULL|  NULL|      NULL|         NULL|              NULL|        NULL|            NULL|         1|             0|            42005| 964.8928|   0.441215|            398.4533|                234.3721|         17|0.3905|          6|0.1378|                 5|         47|1.0796|    17332|     11728|  269.4028|       0.261862|    15225|      NULL|     370|        345|          25|                 NULL|                   NULL| 8.4992|    3344|  3377|    94|        3015|      2948|        75|         329|       429|        19|        0|          0|         0|            0|              0|             0|    5217|  5647|   142|        5017|      5355|       122|         200|       292|        20|        0|          0|         0|            1|              0|             0|\n",
            "|ESPORTSTMNT06_275...|        complete|NULL|  LFL2|2023|Spring|       0|2023-01-10 17:07:16|   1|13.01|            5|Blue|     sup|      Wixo|oe:player:bb97cd2...|Klanik Esport|oe:team:0ade5e44c...|   Karma|       Sylas|Caitlyn| Wukong|   Akali| Yone|      2612|     1|    0|     2|     10|       13|         7|          0|          0|          0|         0|         0|             0|               0|               1|  0.2986|0.4594|       NULL|   NULL|       NULL|           NULL|               NULL|     NULL|     NULL|  NULL|  NULL|     NULL|    NULL|                  NULL|  NULL|      NULL|       NULL|   NULL|       NULL|      NULL|     0|         0|      NULL|  NULL|      NULL|         NULL|              NULL|        NULL|            NULL|         0|             0|             5668| 130.1991|  0.0595359|            360.2757|                284.1501|         52|1.1945|          8|0.1838|                15|        106|2.4349|     8816|      3212|   73.7825|      0.0717161|     8125|      NULL|      21|         17|           4|                 NULL|                   NULL| 0.4824|    1953|  2367|     1|        2032|      2825|         3|         -79|      -458|        -2|        0|          0|         0|            0|              0|             0|    2827|  3218|     3|        3043|      3797|         3|        -216|      -579|         0|        0|          0|         1|            0|              1|             0|\n",
            "|ESPORTSTMNT06_275...|        complete|NULL|  LFL2|2023|Spring|       0|2023-01-10 17:07:16|   1|13.01|            6| Red|     top|   Anathar|oe:player:0824399...|   MS Company|oe:team:14ad76b8d...| Sejuani|       Galio| Lucian|  Fiora|  Viktor| Azir|      2612|     0|    0|     4|      3|        7|        13|          0|          0|          0|         0|         0|             0|               0|               0|  0.1608|0.4594|       NULL|   NULL|       NULL|           NULL|               NULL|     NULL|     NULL|  NULL|  NULL|     NULL|    NULL|                  NULL|  NULL|      NULL|       NULL|   NULL|       NULL|      NULL|     0|         0|      NULL|  NULL|      NULL|         NULL|              NULL|        NULL|            NULL|         0|             1|            12010| 275.8806|   0.140743|            987.5191|               1430.5590|         10|0.2297|          9|0.2067|                 3|         43|0.9877|    11796|      6192|  142.2358|       0.178315|    12025|      NULL|     264|        264|           0|                 NULL|                   NULL| 6.0643|    3087|  4814|    81|        3163|      4772|        83|         -76|        42|        -2|        0|          0|         0|            0|              0|             0|    4737|  7683|   131|        5059|      7946|       143|        -322|      -263|       -12|        0|          0|         0|            0|              0|             0|\n",
            "|ESPORTSTMNT06_275...|        complete|NULL|  LFL2|2023|Spring|       0|2023-01-10 17:07:16|   1|13.01|            7| Red|     jng|  nicolaiy|oe:player:ae50e71...|   MS Company|oe:team:14ad76b8d...|   Viego|       Galio| Lucian|  Fiora|  Viktor| Azir|      2612|     0|    0|     2|      4|        7|        13|          0|          0|          0|         0|         0|             0|               0|               0|  0.1608|0.4594|       NULL|   NULL|       NULL|           NULL|               NULL|     NULL|     NULL|  NULL|  NULL|     NULL|    NULL|                  NULL|  NULL|      NULL|       NULL|   NULL|       NULL|      NULL|     0|         1|      NULL|  NULL|      NULL|         NULL|              NULL|        NULL|            NULL|         0|             0|             5910| 135.7580|  0.0692581|            864.0965|               1020.8729|          7|0.1608|         13|0.2986|                 7|         57|1.3093|    11711|      6107|  140.2833|       0.175867|    12150|      NULL|     234|         32|         202|                 NULL|                   NULL| 5.3752|    2948|  3140|    66|        3035|      3302|        54|         -87|      -162|        12|        0|          0|         0|            0|              0|             0|    4682|  5960|   117|        4325|      4637|        74|         357|      1323|        43|        0|          0|         0|            0|              0|             0|\n",
            "|ESPORTSTMNT06_275...|        complete|NULL|  LFL2|2023|Spring|       0|2023-01-10 17:07:16|   1|13.01|            8| Red|     mid|  Kuroneel|oe:player:79715a2...|   MS Company|oe:team:14ad76b8d...|  Syndra|       Galio| Lucian|  Fiora|  Viktor| Azir|      2612|     0|    3|     3|      3|        7|        13|          0|          0|          0|         0|         0|             0|               0|               0|  0.1608|0.4594|       NULL|   NULL|       NULL|           NULL|               NULL|     NULL|     NULL|  NULL|  NULL|     NULL|    NULL|                  NULL|  NULL|      NULL|       NULL|   NULL|       NULL|      NULL|     0|         0|      NULL|  NULL|      NULL|         NULL|              NULL|        NULL|            NULL|         0|             0|            29151| 669.6248|   0.341615|            420.3675|                250.7963|         15|0.3446|         10|0.2297|                 2|         62|1.4242|    14129|      8525|  195.8270|       0.245501|    14050|      NULL|     311|        303|           8|                 NULL|                   NULL| 7.1440|    3455|  5174|   103|        3117|      4927|        85|         338|       247|        18|        0|          0|         0|            0|              0|             0|    5435|  8096|   162|        4956|      7772|       136|         479|       324|        26|        0|          0|         0|            0|              0|             0|\n",
            "|ESPORTSTMNT06_275...|        complete|NULL|  LFL2|2023|Spring|       0|2023-01-10 17:07:16|   1|13.01|            9| Red|     bot|  Scripter|oe:player:0a6393f...|   MS Company|oe:team:14ad76b8d...|    Zeri|       Galio| Lucian|  Fiora|  Viktor| Azir|      2612|     0|    3|     3|      2|        7|        13|          1|          0|          0|         0|         1|             1|               0|               0|  0.1608|0.4594|       NULL|   NULL|       NULL|           NULL|               NULL|     NULL|     NULL|  NULL|  NULL|     NULL|    NULL|                  NULL|  NULL|      NULL|       NULL|   NULL|       NULL|      NULL|     0|         0|      NULL|  NULL|      NULL|         NULL|              NULL|        NULL|            NULL|         0|             1|            22083| 507.2665|   0.258786|            525.4364|                677.7335|          9|0.2067|         16|0.3675|                 3|         71|1.6309|    16823|     11219|  257.7106|       0.323083|    15335|      NULL|     411|        403|           8|                 NULL|                   NULL| 9.4410|    3015|  2948|    75|        3344|      3377|        94|        -329|      -429|       -19|        0|          0|         0|            0|              0|             0|    5017|  5355|   122|        5217|      5647|       142|        -200|      -292|       -20|        1|          0|         0|            0|              0|             0|\n",
            "|ESPORTSTMNT06_275...|        complete|NULL|  LFL2|2023|Spring|       0|2023-01-10 17:07:16|   1|13.01|           10| Red|     sup|     Zimba|oe:player:4514350...|   MS Company|oe:team:14ad76b8d...|   Yuumi|       Galio| Lucian|  Fiora|  Viktor| Azir|      2612|     0|    1|     1|      6|        7|        13|          0|          0|          0|         0|         1|             0|               1|               0|  0.1608|0.4594|       NULL|   NULL|       NULL|           NULL|               NULL|     NULL|     NULL|  NULL|  NULL|     NULL|    NULL|                  NULL|  NULL|      NULL|       NULL|   NULL|       NULL|      NULL|     0|         0|      NULL|  NULL|      NULL|         NULL|              NULL|        NULL|            NULL|         0|             0|            16179| 371.6462|   0.189598|             66.6845|                 45.0919|         39|0.8959|          1|0.0230|                 5|         71|1.6309|     8286|      2682|   61.6080|       0.077234|     7475|      NULL|       6|          6|           0|                 NULL|                   NULL| 0.1378|    2032|  2825|     3|        1953|      2367|         1|          79|       458|         2|        0|          0|         0|            0|              0|             0|    3043|  3797|     3|        2827|      3218|         3|         216|       579|         0|        0|          1|         0|            0|              0|             1|\n",
            "|ESPORTSTMNT06_275...|        complete|NULL|  LFL2|2023|Spring|       0|2023-01-10 17:07:16|   1|13.01|          100|Blue|    team|      NULL|                NULL|Klanik Esport|oe:team:0ade5e44c...|    NULL|       Sylas|Caitlyn| Wukong|   Akali| Yone|      2612|     1|   13|     7|     38|       13|         7|          1|          1|          0|         0|         0|          NULL|            NULL|            NULL|  0.2986|0.4594|          0|      4|          3|              4|                  3|        0|        0|     0|     4|        0|       0|                  NULL|     0|         0|          1|      2|          0|         1|     1|         0|         1|    11|         2|            1|                 1|           4|               2|         2|             0|            95203|2186.8989|       NULL|           2690.9265|               3235.1302|        130|2.9862|         40|0.9188|                55|        312|7.1669|    72807|     44787| 1028.7979|           NULL|    65505| 0.0706496|    NULL|       1039|         247|                 NULL|                   NULL|29.5406|   14612| 18745|   317|       14537|     18901|       328|          75|      -156|       -11|        0|          0|         0|            0|              0|             0|   22384| 29220|   498|       22914|     30891|       535|        -530|     -1671|       -37|        0|          0|         1|            1|              1|             0|\n",
            "|ESPORTSTMNT06_275...|        complete|NULL|  LFL2|2023|Spring|       0|2023-01-10 17:07:16|   1|13.01|          200| Red|    team|      NULL|                NULL|   MS Company|oe:team:14ad76b8d...|    NULL|       Galio| Lucian|  Fiora|  Viktor| Azir|      2612|     0|    7|    13|     18|        7|        13|          1|          0|          0|         0|         1|          NULL|            NULL|            NULL|  0.1608|0.4594|          1|      3|          4|              3|                  4|        1|        0|     0|     1|        0|       1|                  NULL|     0|         0|          0|      0|          2|         0|     0|         1|         0|     2|        11|            0|                 0|           2|               4|         0|             2|            85333|1960.1761|       NULL|           2864.1041|               3425.0536|         80|1.8377|         49|1.1256|                20|        304|6.9832|    62745|     34725|  797.6646|           NULL|    61035|-0.0706496|    NULL|       1008|         218|                 NULL|                   NULL|28.1623|   14537| 18901|   328|       14612|     18745|       317|         -75|       156|        11|        0|          0|         0|            0|              0|             0|   22914| 30891|   535|       22384|     29220|       498|         530|      1671|        37|        1|          1|         0|            0|              0|             1|\n",
            "|ESPORTSTMNT06_275...|        complete|NULL|  LFL2|2023|Spring|       0|2023-01-10 18:15:01|   1|13.01|            1|Blue|     top|     S0bek|oe:player:df8fa39...| beGenius ESC|oe:team:607baf040...| K'Sante|       Fiora|Kindred|Sejuani|Nautilus|Leona|      2436|     0|    3|     1|      5|       20|        16|          1|          0|          0|         0|         0|             0|               0|               0|  0.4926|0.8867|       NULL|   NULL|       NULL|           NULL|               NULL|     NULL|     NULL|  NULL|  NULL|     NULL|    NULL|                  NULL|  NULL|      NULL|       NULL|   NULL|       NULL|      NULL|     0|         0|      NULL|  NULL|      NULL|         NULL|              NULL|        NULL|            NULL|         0|             2|            20771| 511.6010|   0.194985|            493.5222|               1108.8424|          9|0.2217|          7|0.1724|                 4|         32|0.7882|    16027|     10782|  265.5665|       0.198191|    15500|      NULL|     313|        311|           2|                 NULL|                   NULL| 7.7094|    3539|  5127|    92|        3474|      4865|        93|          65|       262|        -1|        0|          0|         0|            0|              0|             0|    5307|  8148|   143|        5400|      7677|       145|         -93|       471|        -2|        0|          0|         0|            0|              0|             0|\n",
            "|ESPORTSTMNT06_275...|        complete|NULL|  LFL2|2023|Spring|       0|2023-01-10 18:15:01|   1|13.01|            2|Blue|     jng|   Stormax|oe:player:9bfbc1a...| beGenius ESC|oe:team:607baf040...|Xin Zhao|       Fiora|Kindred|Sejuani|Nautilus|Leona|      2436|     0|    2|     3|      9|       20|        16|          0|          0|          0|         0|         0|             0|               0|               0|  0.4926|0.8867|       NULL|   NULL|       NULL|           NULL|               NULL|     NULL|     NULL|  NULL|  NULL|     NULL|    NULL|                  NULL|  NULL|      NULL|       NULL|   NULL|       NULL|      NULL|     2|         1|      NULL|  NULL|      NULL|         NULL|              NULL|        NULL|            NULL|         0|             0|            14352| 353.4975|   0.134728|            763.5961|               1128.3251|         18|0.4433|         20|0.4926|                18|         72|1.7734|    14237|      8992|  221.4778|       0.165288|    13050|      NULL|     214|         37|         177|                 NULL|                   NULL| 5.2709|    3472|  3240|    62|        3158|      3255|        62|         314|       -15|         0|        1|          0|         0|            0|              2|             1|    5328|  5275|    91|        4408|      4984|        87|         920|       291|         4|        1|          2|         0|            0|              2|             2|\n",
            "|ESPORTSTMNT06_275...|        complete|NULL|  LFL2|2023|Spring|       0|2023-01-10 18:15:01|   1|13.01|            3|Blue|     mid| FrostSize|oe:player:49343d8...| beGenius ESC|oe:team:607baf040...|    Ryze|       Fiora|Kindred|Sejuani|Nautilus|Leona|      2436|     0|    9|     4|      6|       20|        16|          1|          0|          0|         0|         0|             0|               0|               1|  0.4926|0.8867|       NULL|   NULL|       NULL|           NULL|               NULL|     NULL|     NULL|  NULL|  NULL|     NULL|    NULL|                  NULL|  NULL|      NULL|       NULL|   NULL|       NULL|      NULL|     0|         0|      NULL|  NULL|      NULL|         NULL|              NULL|        NULL|            NULL|         0|             0|            34396| 847.1921|   0.322888|            676.0837|                694.7044|         18|0.4433|          8|0.1970|                 6|         59|1.4532|    20369|     15124|  372.5123|       0.278005|    17825|      NULL|     415|        383|          32|                 NULL|                   NULL|10.2217|    3367|  5164|    91|        3621|      4748|        93|        -254|       416|        -2|        0|          1|         1|            1|              0|             0|    5354|  8054|   143|        5605|      7632|       149|        -251|       422|        -6|        1|          1|         1|            2|              0|             0|\n",
            "|ESPORTSTMNT06_275...|        complete|NULL|  LFL2|2023|Spring|       0|2023-01-10 18:15:01|   1|13.01|            4|Blue|     bot|      PiOk|oe:player:956b4d2...| beGenius ESC|oe:team:607baf040...|  Lucian|       Fiora|Kindred|Sejuani|Nautilus|Leona|      2436|     0|    5|     4|      7|       20|        16|          0|          0|          0|         0|         0|             0|               0|               0|  0.4926|0.8867|       NULL|   NULL|       NULL|           NULL|               NULL|     NULL|     NULL|  NULL|  NULL|     NULL|    NULL|                  NULL|  NULL|      NULL|       NULL|   NULL|       NULL|      NULL|     0|         0|      NULL|  NULL|      NULL|         NULL|              NULL|        NULL|            NULL|         0|             1|            28995| 714.1626|   0.272187|            425.6158|                321.2069|         15|0.3695|         11|0.2709|                 4|         40|0.9852|    19563|     14318|  352.6601|       0.263189|    18900|      NULL|     383|        369|          14|                 NULL|                   NULL| 9.4335|    3573|  3026|    79|        3877|      3164|        81|        -304|      -138|        -2|        1|          0|         0|            1|              0|             0|    5706|  4847|   118|        5531|      5692|       129|         175|      -845|       -11|        2|          0|         1|            1|              1|             0|\n",
            "|ESPORTSTMNT06_275...|        complete|NULL|  LFL2|2023|Spring|       0|2023-01-10 18:15:01|   1|13.01|            5|Blue|     sup|   Zaremba|oe:player:180d247...| beGenius ESC|oe:team:607baf040...|    Nami|       Fiora|Kindred|Sejuani|Nautilus|Leona|      2436|     0|    1|     4|     17|       20|        16|          0|          0|          0|         0|         0|             0|               0|               0|  0.4926|0.8867|       NULL|   NULL|       NULL|           NULL|               NULL|     NULL|     NULL|  NULL|  NULL|     NULL|    NULL|                  NULL|  NULL|      NULL|       NULL|   NULL|       NULL|      NULL|     0|         0|      NULL|  NULL|      NULL|         NULL|              NULL|        NULL|            NULL|         0|             0|             8012| 197.3399|  0.0752117|            316.9212|                229.2857|         59|1.4532|          9|0.2217|                17|         95|2.3399|    10431|      5186|  127.7340|       0.095327|     9525|      NULL|      11|         11|           0|                 NULL|                   NULL| 0.2709|    2018|  2563|     0|        2200|      2806|        17|        -182|      -243|       -17|        0|          1|         1|            0|              1|             1|    3076|  3760|     3|        3154|      3569|        22|         -78|       191|       -19|        0|          3|         1|            0|              1|             2|\n",
            "|ESPORTSTMNT06_275...|        complete|NULL|  LFL2|2023|Spring|       0|2023-01-10 18:15:01|   1|13.01|            6| Red|     top|    Twelve|oe:player:2fdfc5a...|   ViV Esport|oe:team:2d9e95ece...|    Gwen|Heimerdinger| Wukong|  Akali|  Syndra|Sylas|      2436|     1|    6|     4|      1|       16|        20|          1|          0|          0|         0|         0|             0|               0|               0|  0.3941|0.8867|       NULL|   NULL|       NULL|           NULL|               NULL|     NULL|     NULL|  NULL|  NULL|     NULL|    NULL|                  NULL|  NULL|      NULL|       NULL|   NULL|       NULL|      NULL|     0|         0|      NULL|  NULL|      NULL|         NULL|              NULL|        NULL|            NULL|         2|             0|            28702| 706.9458|   0.357132|           1011.2069|                989.8522|          9|0.2217|          6|0.1478|                 4|         34|0.8374|    19532|     14287|  351.8966|       0.278913|    18100|      NULL|     393|        357|          36|                 NULL|                   NULL| 9.6798|    3474|  4865|    93|        3539|      5127|        92|         -65|      -262|         1|        0|          0|         0|            0|              0|             0|    5400|  7677|   145|        5307|      8148|       143|          93|      -471|         2|        0|          0|         0|            0|              0|             0|\n",
            "|ESPORTSTMNT06_275...|        complete|NULL|  LFL2|2023|Spring|       0|2023-01-10 18:15:01|   1|13.01|            7| Red|     jng|    Joinze|oe:player:dbdc61a...|   ViV Esport|oe:team:2d9e95ece...|      Vi|Heimerdinger| Wukong|  Akali|  Syndra|Sylas|      2436|     1|    0|     5|     10|       16|        20|          0|          0|          0|         0|         1|             0|               1|               0|  0.3941|0.8867|       NULL|   NULL|       NULL|           NULL|               NULL|     NULL|     NULL|  NULL|  NULL|     NULL|    NULL|                  NULL|  NULL|      NULL|       NULL|   NULL|       NULL|      NULL|     1|         2|      NULL|  NULL|      NULL|         NULL|              NULL|        NULL|            NULL|         0|             0|             5412| 133.3005|  0.0673402|            665.9606|               1230.4926|          9|0.2217|         16|0.3941|                10|         50|1.2315|    11893|      6648|  163.7438|       0.129783|    11200|      NULL|     186|         27|         159|                 NULL|                   NULL| 4.5813|    3158|  3255|    62|        3472|      3240|        62|        -314|        15|         0|        0|          2|         1|            1|              0|             0|    4408|  4984|    87|        5328|      5275|        91|        -920|      -291|        -4|        0|          2|         2|            1|              2|             0|\n",
            "|ESPORTSTMNT06_275...|        complete|NULL|  LFL2|2023|Spring|       0|2023-01-10 18:15:01|   1|13.01|            8| Red|     mid|  Serendip|oe:player:4ff58ae...|   ViV Esport|oe:team:2d9e95ece...|  Irelia|Heimerdinger| Wukong|  Akali|  Syndra|Sylas|      2436|     1|    5|     2|      5|       16|        20|          0|          0|          0|         0|         1|             1|               0|               0|  0.3941|0.8867|       NULL|   NULL|       NULL|           NULL|               NULL|     NULL|     NULL|  NULL|  NULL|     NULL|    NULL|                  NULL|  NULL|      NULL|       NULL|   NULL|       NULL|      NULL|     0|         0|      NULL|  NULL|      NULL|         NULL|              NULL|        NULL|            NULL|         0|             0|            17256| 425.0246|   0.214712|            781.5517|               1066.0345|         24|0.5911|         10|0.2463|                11|         63|1.5517|    16630|     11385|  280.4187|       0.222259|    16375|      NULL|     353|        337|          16|                 NULL|                   NULL| 8.6946|    3621|  4748|    93|        3367|      5164|        91|         254|      -416|         2|        1|          0|         0|            0|              1|             1|    5605|  7632|   149|        5354|      8054|       143|         251|      -422|         6|        2|          0|         0|            1|              1|             1|\n",
            "+--------------------+----------------+----+------+----+------+--------+-------------------+----+-----+-------------+----+--------+----------+--------------------+-------------+--------------------+--------+------------+-------+-------+--------+-----+----------+------+-----+------+-------+---------+----------+-----------+-----------+-----------+----------+----------+--------------+----------------+----------------+--------+------+-----------+-------+-----------+---------------+-------------------+---------+---------+------+------+---------+--------+----------------------+------+----------+-----------+-------+-----------+----------+------+----------+----------+------+----------+-------------+------------------+------------+----------------+----------+--------------+-----------------+---------+-----------+--------------------+------------------------+-----------+------+-----------+------+------------------+-----------+------+---------+----------+----------+---------------+---------+----------+--------+-----------+------------+---------------------+-----------------------+-------+--------+------+------+------------+----------+----------+------------+----------+----------+---------+-----------+----------+-------------+---------------+--------------+--------+------+------+------------+----------+----------+------------+----------+----------+---------+-----------+----------+-------------+---------------+--------------+\n",
            "only showing top 20 rows\n",
            "\n"
          ]
        }
      ]
    },
    {
      "cell_type": "code",
      "source": [
        "LoL_Match_df2014.show()"
      ],
      "metadata": {
        "colab": {
          "base_uri": "https://localhost:8080/"
        },
        "id": "XOVAQY58N1J_",
        "outputId": "08e719d5-decc-42da-c6cb-705cc09fe0ee"
      },
      "execution_count": 6,
      "outputs": [
        {
          "output_type": "stream",
          "name": "stdout",
          "text": [
            "+--------+----------------+--------------------+------+----+------+--------+-------------------+----+-----+-------------+----+--------+-----------+--------------------+-----------------+--------------------+---------+--------+-------+-----+----+----+----------+------+-----+------+-------+---------+----------+-----------+-----------+-----------+----------+----------+--------------+----------------+----------------+--------+------+-----------+-------+-----------+---------------+-------------------+---------+---------+------+------+---------+--------+----------------------+------+----------+-----------+-------+-----------+----------+------+----------+----------+------+----------+-------------+------------------+------------+----------------+----------+--------------+-----------------+---------+-----------+--------------------+------------------------+-----------+------+-----------+------+------------------+-----------+------+---------+----------+----------+---------------+---------+----------+--------+-----------+------------+---------------------+-----------------------+-------+--------+------+------+------------+----------+----------+------------+----------+----------+---------+-----------+----------+-------------+---------------+--------------+--------+------+------+------------+----------+----------+------------+----------+----------+---------+-----------+----------+-------------+---------------+--------------+\n",
            "|  gameid|datacompleteness|                 url|league|year| split|playoffs|               date|game|patch|participantid|side|position| playername|            playerid|         teamname|              teamid| champion|    ban1|   ban2| ban3|ban4|ban5|gamelength|result|kills|deaths|assists|teamkills|teamdeaths|doublekills|triplekills|quadrakills|pentakills|firstblood|firstbloodkill|firstbloodassist|firstbloodvictim|team kpm|  ckpm|firstdragon|dragons|opp_dragons|elementaldrakes|opp_elementaldrakes|infernals|mountains|clouds|oceans|chemtechs|hextechs|dragons (type unknown)|elders|opp_elders|firstherald|heralds|opp_heralds|firstbaron|barons|opp_barons|firsttower|towers|opp_towers|firstmidtower|firsttothreetowers|turretplates|opp_turretplates|inhibitors|opp_inhibitors|damagetochampions|      dpm|damageshare|damagetakenperminute|damagemitigatedperminute|wardsplaced|   wpm|wardskilled|  wcpm|controlwardsbought|visionscore|  vspm|totalgold|earnedgold|earned gpm|earnedgoldshare|goldspent|      gspd|total cs|minionkills|monsterkills|monsterkillsownjungle|monsterkillsenemyjungle|   cspm|goldat10|xpat10|csat10|opp_goldat10|opp_xpat10|opp_csat10|golddiffat10|xpdiffat10|csdiffat10|killsat10|assistsat10|deathsat10|opp_killsat10|opp_assistsat10|opp_deathsat10|goldat15|xpat15|csat15|opp_goldat15|opp_xpat15|opp_csat15|golddiffat15|xpdiffat15|csdiffat15|killsat15|assistsat15|deathsat15|opp_killsat15|opp_assistsat15|opp_deathsat15|\n",
            "+--------+----------------+--------------------+------+----+------+--------+-------------------+----+-----+-------------+----+--------+-----------+--------------------+-----------------+--------------------+---------+--------+-------+-----+----+----+----------+------+-----+------+-------+---------+----------+-----------+-----------+-----------+----------+----------+--------------+----------------+----------------+--------+------+-----------+-------+-----------+---------------+-------------------+---------+---------+------+------+---------+--------+----------------------+------+----------+-----------+-------+-----------+----------+------+----------+----------+------+----------+-------------+------------------+------------+----------------+----------+--------------+-----------------+---------+-----------+--------------------+------------------------+-----------+------+-----------+------+------------------+-----------+------+---------+----------+----------+---------------+---------+----------+--------+-----------+------------+---------------------+-----------------------+-------+--------+------+------+------------+----------+----------+------------+----------+----------+---------+-----------+----------+-------------+---------------+--------------+--------+------+------+------------+----------+----------+------------+----------+----------+---------+-----------+----------+-------------+---------------+--------------+\n",
            "|TRLH3/33|        complete|http://matchhisto...|EU LCS|2014|Spring|       0|2014-01-14 17:52:02|   1| 3.15|            1|Blue|     top|       sOAZ|oe:player:e4e943f...|           Fnatic|oe:team:78f183fa5...|  Trundle|   Riven|Kha'Zix|Yasuo|NULL|NULL|      1924|     1|    3|     0|     13|       21|         5|          0|          0|          0|         0|         1|             1|               0|               0|  0.6549|0.8108|       NULL|   NULL|       NULL|           NULL|               NULL|     NULL|     NULL|  NULL|  NULL|     NULL|    NULL|                  NULL|  NULL|      NULL|       NULL|   NULL|       NULL|      NULL|  NULL|      NULL|      NULL|  NULL|      NULL|         NULL|              NULL|        NULL|            NULL|         0|             0|            12569| 391.9647|   0.170201|           1094.8753|                  0.0000|         13|0.4054|          0|0.0000|                 0|          0|0.0000|    11499|      7539|  235.1040|        0.19023|     8920|      NULL|     209|        209|           0|                    0|                      0| 6.5177|    3080|  3907|    57|        3086|      3994|        57|          -6|       -87|         0|        2|          0|         0|            1|              1|             1|    4837|  6615|   110|        4788|      7175|       111|          49|      -560|        -1|        2|          0|         0|            1|              1|             1|\n",
            "|TRLH3/33|        complete|http://matchhisto...|EU LCS|2014|Spring|       0|2014-01-14 17:52:02|   1| 3.15|            2|Blue|     jng|    Cyanide|oe:player:e4cd1e7...|           Fnatic|oe:team:78f183fa5...|       Vi|   Riven|Kha'Zix|Yasuo|NULL|NULL|      1924|     1|    0|     4|     14|       21|         5|          0|          0|          0|         0|         1|             0|               1|               0|  0.6549|0.8108|       NULL|   NULL|       NULL|           NULL|               NULL|     NULL|     NULL|  NULL|  NULL|     NULL|    NULL|                  NULL|  NULL|      NULL|       NULL|   NULL|       NULL|      NULL|  NULL|      NULL|      NULL|  NULL|      NULL|         NULL|              NULL|        NULL|            NULL|         1|             0|             7067| 220.3846|  0.0956966|            611.9751|                  0.0000|         12|0.3742|          0|0.0000|                 1|          0|0.0000|    10113|      6153|  191.8815|        0.15526|     6780|      NULL|     115|         24|          91|                   83|                      8| 3.5863|    2335|  2732|    32|        3437|      4157|        59|       -1102|     -1425|       -27|        0|          2|         2|            2|              0|             0|    3869|  6036|    59|        4976|      6739|        95|       -1107|      -703|       -36|        0|          2|         2|            2|              0|             0|\n",
            "|TRLH3/33|        complete|http://matchhisto...|EU LCS|2014|Spring|       0|2014-01-14 17:52:02|   1| 3.15|            3|Blue|     mid|      xPeke|oe:player:5d69aab...|           Fnatic|oe:team:78f183fa5...|  Orianna|   Riven|Kha'Zix|Yasuo|NULL|NULL|      1924|     1|   10|     1|      7|       21|         5|          4|          1|          0|         0|         1|             0|               1|               0|  0.6549|0.8108|       NULL|   NULL|       NULL|           NULL|               NULL|     NULL|     NULL|  NULL|  NULL|     NULL|    NULL|                  NULL|  NULL|      NULL|       NULL|   NULL|       NULL|      NULL|  NULL|      NULL|      NULL|  NULL|      NULL|         NULL|              NULL|        NULL|            NULL|         0|             0|            27699| 863.7942|   0.375081|            299.1268|                  0.0000|         12|0.3742|          3|0.0936|                 0|          0|0.0000|    14564|     10604|  330.6861|       0.267565|     8750|      NULL|     276|        247|          29|                   26|                      3| 8.6071|    2817|  4216|    73|        3142|      4303|        68|        -325|       -87|         5|        0|          1|         1|            0|              2|             0|    4757|  7416|   133|        4902|      7564|       126|        -145|      -148|         7|        0|          1|         1|            0|              2|             0|\n",
            "|TRLH3/33|        complete|http://matchhisto...|EU LCS|2014|Spring|       0|2014-01-14 17:52:02|   1| 3.15|            4|Blue|     bot|    Rekkles|oe:player:d8362fe...|           Fnatic|oe:team:78f183fa5...|     Jinx|   Riven|Kha'Zix|Yasuo|NULL|NULL|      1924|     1|    8|     0|      9|       21|         5|          2|          1|          0|         0|         0|             0|               0|               0|  0.6549|0.8108|       NULL|   NULL|       NULL|           NULL|               NULL|     NULL|     NULL|  NULL|  NULL|     NULL|    NULL|                  NULL|  NULL|      NULL|       NULL|   NULL|       NULL|      NULL|  NULL|      NULL|      NULL|  NULL|      NULL|         NULL|              NULL|        NULL|            NULL|         1|             0|            17296| 539.3763|   0.234211|            282.0062|                  0.0000|          6|0.1871|          1|0.0312|                 0|          0|0.0000|    14210|     10250|  319.6466|       0.258633|     9260|      NULL|     282|        250|          32|                   28|                      4| 8.7942|    3487|  3259|    78|        2510|      2419|        51|         977|       840|        27|        2|          0|         0|            0|              0|             2|    5676|  5475|   125|        4088|      4477|       103|        1588|       998|        22|        3|          0|         0|            0|              0|             3|\n",
            "|TRLH3/33|        complete|http://matchhisto...|EU LCS|2014|Spring|       0|2014-01-14 17:52:02|   1| 3.15|            5|Blue|     sup| YellOwStaR|oe:player:5ebcf3b...|           Fnatic|oe:team:78f183fa5...|    Annie|   Riven|Kha'Zix|Yasuo|NULL|NULL|      1924|     1|    0|     0|     15|       21|         5|          0|          0|          0|         0|         1|             0|               1|               0|  0.6549|0.8108|       NULL|   NULL|       NULL|           NULL|               NULL|     NULL|     NULL|  NULL|  NULL|     NULL|    NULL|                  NULL|  NULL|      NULL|       NULL|   NULL|       NULL|      NULL|  NULL|      NULL|      NULL|  NULL|      NULL|         NULL|              NULL|        NULL|            NULL|         0|             0|             9217| 287.4324|    0.12481|            208.4719|                  0.0000|         38|1.1850|          2|0.0624|                 3|          0|0.0000|     9045|      5085|  158.5759|       0.128312|     6390|      NULL|      11|         11|           0|                    0|                      0| 0.3430|    2132|  3079|     5|        1795|      2783|        14|         337|       296|        -9|        0|          3|         0|            0|              0|             1|    3479|  4695|     8|        2592|      4219|        23|         887|       476|       -15|        0|          4|         0|            0|              0|             1|\n",
            "|TRLH3/33|        complete|http://matchhisto...|EU LCS|2014|Spring|       0|2014-01-14 17:52:02|   1| 3.15|            6| Red|     top|     Darien|oe:player:c248a75...|    Gambit Gaming|oe:team:3e18c3270...|Dr. Mundo|Kassadin|Nidalee|Elise|NULL|NULL|      1924|     0|    1|     5|      2|        5|        21|          0|          0|          0|         0|         0|             0|               0|               0|  0.1559|0.8108|       NULL|   NULL|       NULL|           NULL|               NULL|     NULL|     NULL|  NULL|  NULL|     NULL|    NULL|                  NULL|  NULL|      NULL|       NULL|   NULL|       NULL|      NULL|  NULL|      NULL|      NULL|  NULL|      NULL|         NULL|              NULL|        NULL|            NULL|         0|             0|            22507| 701.8815|   0.413945|            958.5031|                  0.0000|         11|0.3430|          3|0.0936|                 1|          0|0.0000|    10050|      6090|  189.9168|       0.239525|     7920|      NULL|     232|        213|          19|                   13|                      6| 7.2349|    3086|  3994|    57|        3080|      3907|        57|           6|        87|         0|        1|          1|         1|            2|              0|             0|    4788|  7175|   111|        4837|      6615|       110|         -49|       560|         1|        1|          1|         1|            2|              0|             0|\n",
            "|TRLH3/33|        complete|http://matchhisto...|EU LCS|2014|Spring|       0|2014-01-14 17:52:02|   1| 3.15|            7| Red|     jng|Diamondprox|oe:player:1c7db66...|    Gambit Gaming|oe:team:3e18c3270...|  Shyvana|Kassadin|Nidalee|Elise|NULL|NULL|      1924|     0|    2|     3|      2|        5|        21|          0|          0|          0|         0|         0|             0|               0|               0|  0.1559|0.8108|       NULL|   NULL|       NULL|           NULL|               NULL|     NULL|     NULL|  NULL|  NULL|     NULL|    NULL|                  NULL|  NULL|      NULL|       NULL|   NULL|       NULL|      NULL|  NULL|      NULL|      NULL|  NULL|      NULL|         NULL|              NULL|        NULL|            NULL|         0|             1|             9262| 288.8358|   0.170345|            982.5156|                  0.0000|         15|0.4678|          2|0.0624|                 0|          0|0.0000|     9688|      5728|  178.6279|       0.225288|     8200|      NULL|     164|         68|          96|                   75|                     21| 5.1143|    3437|  4157|    59|        2335|      2732|        32|        1102|      1425|        27|        2|          0|         0|            0|              2|             2|    4976|  6739|    95|        3869|      6036|        59|        1107|       703|        36|        2|          0|         0|            0|              2|             2|\n",
            "|TRLH3/33|        complete|http://matchhisto...|EU LCS|2014|Spring|       0|2014-01-14 17:52:02|   1| 3.15|            8| Red|     mid|   Alex Ich|oe:player:70f2e5e...|    Gambit Gaming|oe:team:3e18c3270...|  LeBlanc|Kassadin|Nidalee|Elise|NULL|NULL|      1924|     0|    2|     2|      2|        5|        21|          0|          0|          0|         0|         0|             0|               0|               0|  0.1559|0.8108|       NULL|   NULL|       NULL|           NULL|               NULL|     NULL|     NULL|  NULL|  NULL|     NULL|    NULL|                  NULL|  NULL|      NULL|       NULL|   NULL|       NULL|      NULL|  NULL|      NULL|      NULL|  NULL|      NULL|         NULL|              NULL|        NULL|            NULL|         0|             0|            10991| 342.7547|   0.202144|            418.8150|                  0.0000|          7|0.2183|          0|0.0000|                 0|          0|0.0000|    10690|      6730|  209.8753|       0.264695|     8080|      NULL|     269|        234|          35|                   35|                      0| 8.3888|    3142|  4303|    68|        2817|      4216|        73|         325|        87|        -5|        0|          2|         0|            0|              1|             1|    4902|  7564|   126|        4757|      7416|       133|         145|       148|        -7|        0|          2|         0|            0|              1|             1|\n",
            "|TRLH3/33|        complete|http://matchhisto...|EU LCS|2014|Spring|       0|2014-01-14 17:52:02|   1| 3.15|            9| Red|     bot|      Genja|oe:player:0cd6ba5...|    Gambit Gaming|oe:team:3e18c3270...|   Lucian|Kassadin|Nidalee|Elise|NULL|NULL|      1924|     0|    0|     5|      0|        5|        21|          0|          0|          0|         0|         0|             0|               0|               1|  0.1559|0.8108|       NULL|   NULL|       NULL|           NULL|               NULL|     NULL|     NULL|  NULL|  NULL|     NULL|    NULL|                  NULL|  NULL|      NULL|       NULL|   NULL|       NULL|      NULL|  NULL|      NULL|      NULL|  NULL|      NULL|         NULL|              NULL|        NULL|            NULL|         0|             1|             8267| 257.8067|   0.152045|            504.1996|                  0.0000|          7|0.2183|          1|0.0312|                 0|          0|0.0000|     9028|      5068|  158.0457|       0.199331|     7040|      NULL|     211|        189|          22|                   20|                      2| 6.5800|    2510|  2419|    51|        3487|      3259|        78|        -977|      -840|       -27|        0|          0|         2|            2|              0|             0|    4088|  4477|   103|        5676|      5475|       125|       -1588|      -998|       -22|        0|          0|         3|            3|              0|             0|\n",
            "|TRLH3/33|        complete|http://matchhisto...|EU LCS|2014|Spring|       0|2014-01-14 17:52:02|   1| 3.15|           10| Red|     sup|     Edward|oe:player:243f633...|    Gambit Gaming|oe:team:3e18c3270...|   Thresh|Kassadin|Nidalee|Elise|NULL|NULL|      1924|     0|    0|     6|      2|        5|        21|          0|          0|          0|         0|         0|             0|               0|               0|  0.1559|0.8108|       NULL|   NULL|       NULL|           NULL|               NULL|     NULL|     NULL|  NULL|  NULL|     NULL|    NULL|                  NULL|  NULL|      NULL|       NULL|   NULL|       NULL|      NULL|  NULL|      NULL|      NULL|  NULL|      NULL|         NULL|              NULL|        NULL|            NULL|         0|             0|             3345| 104.3139|  0.0615206|            509.9376|                  0.0000|         26|0.8108|          7|0.2183|                 1|          0|0.0000|     5769|      1809|   56.4137|      0.0711606|     5675|      NULL|      36|         35|           1|                    1|                      0| 1.1227|    1795|  2783|    14|        2132|      3079|         5|        -337|      -296|         9|        0|          0|         1|            0|              3|             0|    2592|  4219|    23|        3479|      4695|         8|        -887|      -476|        15|        0|          0|         1|            0|              4|             0|\n",
            "|TRLH3/33|        complete|http://matchhisto...|EU LCS|2014|Spring|       0|2014-01-14 17:52:02|   1| 3.15|          100|Blue|    team|       NULL|                NULL|           Fnatic|oe:team:78f183fa5...|     NULL|   Riven|Kha'Zix|Yasuo|NULL|NULL|      1924|     1|   21|     5|     58|       21|         5|          6|          2|          0|         0|         1|          NULL|            NULL|            NULL|  0.6549|0.8108|          0|      0|          0|           NULL|               NULL|        0|        0|     0|     0|     NULL|    NULL|                  NULL|     0|         0|       NULL|   NULL|       NULL|         1|     1|         0|         1|    10|         1|            1|                 1|        NULL|            NULL|         2|             0|            73848|2302.9522|       NULL|           2496.4553|                  0.0000|         81|2.5260|          6|0.1871|                 4|          0|0.0000|    59431|     39633| 1235.9563|           NULL|    40100| 0.0827112|    NULL|        741|         152|                  137|                     15|27.8482|   13851| 17193|   245|       13970|     17656|       249|        -119|      -463|        -4|        4|          6|         3|            3|              3|             4|   22618| 30237|   435|       21346|     30174|       458|        1272|        63|       -23|        5|          7|         3|            3|              3|             5|\n",
            "|TRLH3/33|        complete|http://matchhisto...|EU LCS|2014|Spring|       0|2014-01-14 17:52:02|   1| 3.15|          200| Red|    team|       NULL|                NULL|    Gambit Gaming|oe:team:3e18c3270...|     NULL|Kassadin|Nidalee|Elise|NULL|NULL|      1924|     0|    5|    21|      8|        5|        21|          0|          0|          0|         0|         0|          NULL|            NULL|            NULL|  0.1559|0.8108|          1|      0|          0|           NULL|               NULL|        0|        0|     0|     0|     NULL|    NULL|                  NULL|     0|         0|       NULL|   NULL|       NULL|         0|     0|         1|         0|     1|        10|            0|                 0|        NULL|            NULL|         0|             2|            54372|1695.5925|       NULL|           3373.9709|                  0.0000|         66|2.0582|         13|0.4054|                 2|          0|0.0000|    45225|     25427|  792.9418|           NULL|    36915|-0.0827112|    NULL|        739|         173|                  144|                     29|28.4407|   13970| 17656|   249|       13851|     17193|       245|         119|       463|         4|        3|          3|         4|            4|              6|             3|   21346| 30174|   458|       22618|     30237|       435|       -1272|       -63|        23|        3|          3|         5|            5|              7|             3|\n",
            "|TRLH3/44|        complete|http://matchhisto...|EU LCS|2014|Spring|       0|2014-01-14 19:16:29|   1| 3.15|            1|Blue|     top|  YoungBuck|oe:player:479114a...|Copenhagen Wolves|oe:team:6d92c120d...|  Shyvana| Lee Sin|  Annie|Yasuo|NULL|NULL|      2474|     1|    4|     2|      6|       14|         9|          0|          0|          0|         0|         0|             0|               0|               0|  0.3395|0.5578|       NULL|   NULL|       NULL|           NULL|               NULL|     NULL|     NULL|  NULL|  NULL|     NULL|    NULL|                  NULL|  NULL|      NULL|       NULL|   NULL|       NULL|      NULL|  NULL|      NULL|      NULL|  NULL|      NULL|         NULL|              NULL|        NULL|            NULL|         0|             0|            25351| 614.8181|   0.261439|            786.5481|                  0.0000|         16|0.3880|          5|0.1213|                 2|          0|0.0000|    14759|      9754|  236.5562|       0.212848|    10530|      NULL|     269|        254|          15|                    7|                      8| 6.5238|    3268|  4433|    83|        3199|      4336|        82|          69|        97|         1|        1|          0|         1|            1|              0|             1|    5036|  7218|   134|        5203|      7344|       144|        -167|      -126|       -10|        1|          0|         1|            1|              0|             1|\n",
            "|TRLH3/44|        complete|http://matchhisto...|EU LCS|2014|Spring|       0|2014-01-14 19:16:29|   1| 3.15|            2|Blue|     jng|    Amazing|oe:player:0c80257...|Copenhagen Wolves|oe:team:6d92c120d...|    Elise| Lee Sin|  Annie|Yasuo|NULL|NULL|      2474|     1|    4|     0|      9|       14|         9|          0|          0|          0|         0|         0|             0|               0|               0|  0.3395|0.5578|       NULL|   NULL|       NULL|           NULL|               NULL|     NULL|     NULL|  NULL|  NULL|     NULL|    NULL|                  NULL|  NULL|      NULL|       NULL|   NULL|       NULL|      NULL|  NULL|      NULL|      NULL|  NULL|      NULL|         NULL|              NULL|        NULL|            NULL|         0|             0|            19451| 471.7300|   0.200594|            592.1908|                  0.0000|         19|0.4608|          3|0.0728|                 1|          0|0.0000|    14271|      9266|  224.7211|         0.2022|     9430|      NULL|     148|         48|         100|                   83|                     17| 3.5893|    2810|  3945|    38|        2681|      4014|        40|         129|       -69|        -2|        1|          1|         0|            0|              3|             0|    4229|  5702|    60|        4231|      6294|        65|          -2|      -592|        -5|        1|          1|         0|            0|              4|             0|\n",
            "|TRLH3/44|        complete|http://matchhisto...|EU LCS|2014|Spring|       0|2014-01-14 19:16:29|   1| 3.15|            3|Blue|     mid|    cowTard|oe:player:9715186...|Copenhagen Wolves|oe:team:6d92c120d...|    Kayle| Lee Sin|  Annie|Yasuo|NULL|NULL|      2474|     1|    4|     1|      5|       14|         9|          1|          0|          0|         0|         0|             0|               0|               0|  0.3395|0.5578|       NULL|   NULL|       NULL|           NULL|               NULL|     NULL|     NULL|  NULL|  NULL|     NULL|    NULL|                  NULL|  NULL|      NULL|       NULL|   NULL|       NULL|      NULL|  NULL|      NULL|      NULL|  NULL|      NULL|         NULL|              NULL|        NULL|            NULL|         1|             0|            19729| 478.4721|   0.203461|            530.6144|                  0.0000|         13|0.3153|          2|0.0485|                 1|          0|0.0000|    15724|     10719|  259.9596|       0.233905|    11115|      NULL|     311|        284|          27|                   23|                      4| 7.5424|    2873|  4638|    74|        3024|      4892|        71|        -151|      -254|         3|        0|          0|         1|            1|              0|             0|    4566|  7519|   125|        4764|      7465|       120|        -198|        54|         5|        0|          0|         1|            1|              0|             0|\n",
            "|TRLH3/44|        complete|http://matchhisto...|EU LCS|2014|Spring|       0|2014-01-14 19:16:29|   1| 3.15|            4|Blue|     bot|   FORG1VEN|oe:player:493eb5b...|Copenhagen Wolves|oe:team:6d92c120d...|   Lucian| Lee Sin|  Annie|Yasuo|NULL|NULL|      2474|     1|    1|     3|      9|       14|         9|          0|          0|          0|         0|         0|             0|               0|               0|  0.3395|0.5578|       NULL|   NULL|       NULL|           NULL|               NULL|     NULL|     NULL|  NULL|  NULL|     NULL|    NULL|                  NULL|  NULL|      NULL|       NULL|   NULL|       NULL|      NULL|  NULL|      NULL|      NULL|  NULL|      NULL|         NULL|              NULL|        NULL|            NULL|         0|             0|            22811| 553.2175|   0.235245|            453.0315|                  0.0000|         10|0.2425|          4|0.0970|                 0|          0|0.0000|    15457|     10452|  253.4842|       0.228079|    10078|      NULL|     336|        281|          55|                   51|                      4| 8.1487|    2684|  2630|    62|        3169|      3008|        60|        -485|      -378|         2|        0|          1|         1|            1|              1|             1|    4385|  4711|   114|        5187|      4880|       101|        -802|      -169|        13|        0|          1|         1|            2|              1|             1|\n",
            "|TRLH3/44|        complete|http://matchhisto...|EU LCS|2014|Spring|       0|2014-01-14 19:16:29|   1| 3.15|            5|Blue|     sup|  Unlimited|oe:player:859f90d...|Copenhagen Wolves|oe:team:6d92c120d...|     Lulu| Lee Sin|  Annie|Yasuo|NULL|NULL|      2474|     1|    1|     3|     10|       14|         9|          0|          0|          0|         0|         0|             0|               0|               1|  0.3395|0.5578|       NULL|   NULL|       NULL|           NULL|               NULL|     NULL|     NULL|  NULL|  NULL|     NULL|    NULL|                  NULL|  NULL|      NULL|       NULL|   NULL|       NULL|      NULL|  NULL|      NULL|      NULL|  NULL|      NULL|         NULL|              NULL|        NULL|            NULL|         0|             0|             9625| 233.4276|  0.0992606|            418.3508|                  0.0000|         38|0.9216|          2|0.0485|                 3|          0|0.0000|    10640|      5635|  136.6613|       0.122968|     7570|      NULL|      16|         13|           3|                    2|                      1| 0.3880|    2157|  3065|     6|        1898|      2919|         3|         259|       146|         3|        1|          1|         1|            1|              1|             1|    2978|  4292|     7|        2958|      4292|         9|          20|         0|        -2|        1|          1|         2|            1|              2|             1|\n",
            "|TRLH3/44|        complete|http://matchhisto...|EU LCS|2014|Spring|       0|2014-01-14 19:16:29|   1| 3.15|            6| Red|     top|      Wickd|oe:player:5f54026...|         Alliance|oe:team:05bd29b52...| Renekton|Kassadin|Kha'Zix|Ziggs|NULL|NULL|      2474|     0|    1|     2|      2|        9|        14|          0|          0|          0|         0|         0|             0|               0|               0|  0.2183|0.5578|       NULL|   NULL|       NULL|           NULL|               NULL|     NULL|     NULL|  NULL|  NULL|     NULL|    NULL|                  NULL|  NULL|      NULL|       NULL|   NULL|       NULL|      NULL|  NULL|      NULL|      NULL|  NULL|      NULL|         NULL|              NULL|        NULL|            NULL|         0|             0|            12183| 295.4648|   0.147171|            815.8933|                  0.0000|         14|0.3395|          4|0.0970|                 2|          0|0.0000|    12056|      7051|  171.0024|       0.237413|     9405|      NULL|     289|        265|          24|                   24|                      0| 7.0089|    3199|  4336|    82|        3268|      4433|        83|         -69|       -97|        -1|        1|          0|         1|            1|              0|             1|    5203|  7344|   144|        5036|      7218|       134|         167|       126|        10|        1|          0|         1|            1|              0|             1|\n",
            "|TRLH3/44|        complete|http://matchhisto...|EU LCS|2014|Spring|       0|2014-01-14 19:16:29|   1| 3.15|            7| Red|     jng|      Shook|oe:player:3ce5fd1...|         Alliance|oe:team:05bd29b52...|       Vi|Kassadin|Kha'Zix|Ziggs|NULL|NULL|      2474|     0|    1|     2|      6|        9|        14|          0|          0|          0|         0|         1|             0|               1|               0|  0.2183|0.5578|       NULL|   NULL|       NULL|           NULL|               NULL|     NULL|     NULL|  NULL|  NULL|     NULL|    NULL|                  NULL|  NULL|      NULL|       NULL|   NULL|       NULL|      NULL|  NULL|      NULL|      NULL|  NULL|      NULL|         NULL|              NULL|        NULL|            NULL|         0|             0|             6316| 153.1770|  0.0762977|            732.9264|                  0.0000|         13|0.3153|          3|0.0728|                 3|          0|0.0000|     9928|      4923|  119.3937|       0.165765|     7650|      NULL|     115|         26|          89|                   88|                      1| 2.7890|    2681|  4014|    40|        2810|      3945|        38|        -129|        69|         2|        0|          3|         0|            1|              1|             0|    4231|  6294|    65|        4229|      5702|        60|           2|       592|         5|        0|          4|         0|            1|              1|             0|\n",
            "|TRLH3/44|        complete|http://matchhisto...|EU LCS|2014|Spring|       0|2014-01-14 19:16:29|   1| 3.15|            8| Red|     mid|    Froggen|oe:player:a3d74b5...|         Alliance|oe:team:05bd29b52...|   Gragas|Kassadin|Kha'Zix|Ziggs|NULL|NULL|      2474|     0|    2|     1|      2|        9|        14|          0|          0|          0|         0|         0|             0|               0|               0|  0.2183|0.5578|       NULL|   NULL|       NULL|           NULL|               NULL|     NULL|     NULL|  NULL|  NULL|     NULL|    NULL|                  NULL|  NULL|      NULL|       NULL|   NULL|       NULL|      NULL|  NULL|      NULL|      NULL|  NULL|      NULL|         NULL|              NULL|        NULL|            NULL|         0|             1|            30868| 748.6176|   0.372887|            442.1423|                  0.0000|         14|0.3395|          1|0.0243|                 0|          0|0.0000|    12905|      7900|  191.5926|       0.265998|     8675|      NULL|     342|        316|          26|                   23|                      3| 8.2943|    3024|  4892|    71|        2873|      4638|        74|         151|       254|        -3|        1|          0|         0|            0|              0|             1|    4764|  7465|   120|        4566|      7519|       125|         198|       -54|        -5|        1|          0|         0|            0|              0|             1|\n",
            "+--------+----------------+--------------------+------+----+------+--------+-------------------+----+-----+-------------+----+--------+-----------+--------------------+-----------------+--------------------+---------+--------+-------+-----+----+----+----------+------+-----+------+-------+---------+----------+-----------+-----------+-----------+----------+----------+--------------+----------------+----------------+--------+------+-----------+-------+-----------+---------------+-------------------+---------+---------+------+------+---------+--------+----------------------+------+----------+-----------+-------+-----------+----------+------+----------+----------+------+----------+-------------+------------------+------------+----------------+----------+--------------+-----------------+---------+-----------+--------------------+------------------------+-----------+------+-----------+------+------------------+-----------+------+---------+----------+----------+---------------+---------+----------+--------+-----------+------------+---------------------+-----------------------+-------+--------+------+------+------------+----------+----------+------------+----------+----------+---------+-----------+----------+-------------+---------------+--------------+--------+------+------+------------+----------+----------+------------+----------+----------+---------+-----------+----------+-------------+---------------+--------------+\n",
            "only showing top 20 rows\n",
            "\n"
          ]
        }
      ]
    },
    {
      "cell_type": "code",
      "source": [
        "#Merge Dataframes (method from geeksforgeeks.org)\n",
        "def unionAll(*dfs):\n",
        "    return reduce(DataFrame.unionAll, dfs)\n",
        "\n",
        "LoL_Match_dfALL = unionAll(*[LoL_Match_df2014, LoL_Match_df2015, LoL_Match_df2016, LoL_Match_df2017, LoL_Match_df2018, LoL_Match_df2019, LoL_Match_df2020, LoL_Match_df2021, LoL_Match_df2022, LoL_Match_df2023])\n",
        "\n",
        "LoL_Match_dfALL.show()"
      ],
      "metadata": {
        "id": "0SYrHx-59Rjc",
        "colab": {
          "base_uri": "https://localhost:8080/"
        },
        "outputId": "34f51ed4-6bbd-47fb-fa73-f4569011174e"
      },
      "execution_count": 7,
      "outputs": [
        {
          "output_type": "stream",
          "name": "stdout",
          "text": [
            "+--------+----------------+--------------------+------+----+------+--------+-------------------+----+-----+-------------+----+--------+-----------+--------------------+-----------------+--------------------+---------+--------+-------+-----+----+----+----------+------+-----+------+-------+---------+----------+-----------+-----------+-----------+----------+----------+--------------+----------------+----------------+--------+------+-----------+-------+-----------+---------------+-------------------+---------+---------+------+------+---------+--------+----------------------+------+----------+-----------+-------+-----------+----------+------+----------+----------+------+----------+-------------+------------------+------------+----------------+----------+--------------+-----------------+---------+-----------+--------------------+------------------------+-----------+------+-----------+------+------------------+-----------+------+---------+----------+----------+---------------+---------+----------+--------+-----------+------------+---------------------+-----------------------+-------+--------+------+------+------------+----------+----------+------------+----------+----------+---------+-----------+----------+-------------+---------------+--------------+--------+------+------+------------+----------+----------+------------+----------+----------+---------+-----------+----------+-------------+---------------+--------------+\n",
            "|  gameid|datacompleteness|                 url|league|year| split|playoffs|               date|game|patch|participantid|side|position| playername|            playerid|         teamname|              teamid| champion|    ban1|   ban2| ban3|ban4|ban5|gamelength|result|kills|deaths|assists|teamkills|teamdeaths|doublekills|triplekills|quadrakills|pentakills|firstblood|firstbloodkill|firstbloodassist|firstbloodvictim|team kpm|  ckpm|firstdragon|dragons|opp_dragons|elementaldrakes|opp_elementaldrakes|infernals|mountains|clouds|oceans|chemtechs|hextechs|dragons (type unknown)|elders|opp_elders|firstherald|heralds|opp_heralds|firstbaron|barons|opp_barons|firsttower|towers|opp_towers|firstmidtower|firsttothreetowers|turretplates|opp_turretplates|inhibitors|opp_inhibitors|damagetochampions|      dpm|damageshare|damagetakenperminute|damagemitigatedperminute|wardsplaced|   wpm|wardskilled|  wcpm|controlwardsbought|visionscore|  vspm|totalgold|earnedgold|earned gpm|earnedgoldshare|goldspent|      gspd|total cs|minionkills|monsterkills|monsterkillsownjungle|monsterkillsenemyjungle|   cspm|goldat10|xpat10|csat10|opp_goldat10|opp_xpat10|opp_csat10|golddiffat10|xpdiffat10|csdiffat10|killsat10|assistsat10|deathsat10|opp_killsat10|opp_assistsat10|opp_deathsat10|goldat15|xpat15|csat15|opp_goldat15|opp_xpat15|opp_csat15|golddiffat15|xpdiffat15|csdiffat15|killsat15|assistsat15|deathsat15|opp_killsat15|opp_assistsat15|opp_deathsat15|\n",
            "+--------+----------------+--------------------+------+----+------+--------+-------------------+----+-----+-------------+----+--------+-----------+--------------------+-----------------+--------------------+---------+--------+-------+-----+----+----+----------+------+-----+------+-------+---------+----------+-----------+-----------+-----------+----------+----------+--------------+----------------+----------------+--------+------+-----------+-------+-----------+---------------+-------------------+---------+---------+------+------+---------+--------+----------------------+------+----------+-----------+-------+-----------+----------+------+----------+----------+------+----------+-------------+------------------+------------+----------------+----------+--------------+-----------------+---------+-----------+--------------------+------------------------+-----------+------+-----------+------+------------------+-----------+------+---------+----------+----------+---------------+---------+----------+--------+-----------+------------+---------------------+-----------------------+-------+--------+------+------+------------+----------+----------+------------+----------+----------+---------+-----------+----------+-------------+---------------+--------------+--------+------+------+------------+----------+----------+------------+----------+----------+---------+-----------+----------+-------------+---------------+--------------+\n",
            "|TRLH3/33|        complete|http://matchhisto...|EU LCS|2014|Spring|       0|2014-01-14 17:52:02|   1| 3.15|            1|Blue|     top|       sOAZ|oe:player:e4e943f...|           Fnatic|oe:team:78f183fa5...|  Trundle|   Riven|Kha'Zix|Yasuo|NULL|NULL|      1924|     1|    3|     0|     13|       21|         5|          0|          0|          0|         0|         1|             1|               0|               0|  0.6549|0.8108|       NULL|   NULL|       NULL|           NULL|               NULL|     NULL|     NULL|  NULL|  NULL|     NULL|    NULL|                  NULL|  NULL|      NULL|       NULL|   NULL|       NULL|      NULL|  NULL|      NULL|      NULL|  NULL|      NULL|         NULL|              NULL|        NULL|            NULL|         0|             0|            12569| 391.9647|   0.170201|           1094.8753|                  0.0000|         13|0.4054|          0|0.0000|                 0|          0|0.0000|    11499|      7539|  235.1040|        0.19023|     8920|      NULL|     209|        209|           0|                    0|                      0| 6.5177|    3080|  3907|    57|        3086|      3994|        57|          -6|       -87|         0|        2|          0|         0|            1|              1|             1|    4837|  6615|   110|        4788|      7175|       111|          49|      -560|        -1|        2|          0|         0|            1|              1|             1|\n",
            "|TRLH3/33|        complete|http://matchhisto...|EU LCS|2014|Spring|       0|2014-01-14 17:52:02|   1| 3.15|            2|Blue|     jng|    Cyanide|oe:player:e4cd1e7...|           Fnatic|oe:team:78f183fa5...|       Vi|   Riven|Kha'Zix|Yasuo|NULL|NULL|      1924|     1|    0|     4|     14|       21|         5|          0|          0|          0|         0|         1|             0|               1|               0|  0.6549|0.8108|       NULL|   NULL|       NULL|           NULL|               NULL|     NULL|     NULL|  NULL|  NULL|     NULL|    NULL|                  NULL|  NULL|      NULL|       NULL|   NULL|       NULL|      NULL|  NULL|      NULL|      NULL|  NULL|      NULL|         NULL|              NULL|        NULL|            NULL|         1|             0|             7067| 220.3846|  0.0956966|            611.9751|                  0.0000|         12|0.3742|          0|0.0000|                 1|          0|0.0000|    10113|      6153|  191.8815|        0.15526|     6780|      NULL|     115|         24|          91|                   83|                      8| 3.5863|    2335|  2732|    32|        3437|      4157|        59|       -1102|     -1425|       -27|        0|          2|         2|            2|              0|             0|    3869|  6036|    59|        4976|      6739|        95|       -1107|      -703|       -36|        0|          2|         2|            2|              0|             0|\n",
            "|TRLH3/33|        complete|http://matchhisto...|EU LCS|2014|Spring|       0|2014-01-14 17:52:02|   1| 3.15|            3|Blue|     mid|      xPeke|oe:player:5d69aab...|           Fnatic|oe:team:78f183fa5...|  Orianna|   Riven|Kha'Zix|Yasuo|NULL|NULL|      1924|     1|   10|     1|      7|       21|         5|          4|          1|          0|         0|         1|             0|               1|               0|  0.6549|0.8108|       NULL|   NULL|       NULL|           NULL|               NULL|     NULL|     NULL|  NULL|  NULL|     NULL|    NULL|                  NULL|  NULL|      NULL|       NULL|   NULL|       NULL|      NULL|  NULL|      NULL|      NULL|  NULL|      NULL|         NULL|              NULL|        NULL|            NULL|         0|             0|            27699| 863.7942|   0.375081|            299.1268|                  0.0000|         12|0.3742|          3|0.0936|                 0|          0|0.0000|    14564|     10604|  330.6861|       0.267565|     8750|      NULL|     276|        247|          29|                   26|                      3| 8.6071|    2817|  4216|    73|        3142|      4303|        68|        -325|       -87|         5|        0|          1|         1|            0|              2|             0|    4757|  7416|   133|        4902|      7564|       126|        -145|      -148|         7|        0|          1|         1|            0|              2|             0|\n",
            "|TRLH3/33|        complete|http://matchhisto...|EU LCS|2014|Spring|       0|2014-01-14 17:52:02|   1| 3.15|            4|Blue|     bot|    Rekkles|oe:player:d8362fe...|           Fnatic|oe:team:78f183fa5...|     Jinx|   Riven|Kha'Zix|Yasuo|NULL|NULL|      1924|     1|    8|     0|      9|       21|         5|          2|          1|          0|         0|         0|             0|               0|               0|  0.6549|0.8108|       NULL|   NULL|       NULL|           NULL|               NULL|     NULL|     NULL|  NULL|  NULL|     NULL|    NULL|                  NULL|  NULL|      NULL|       NULL|   NULL|       NULL|      NULL|  NULL|      NULL|      NULL|  NULL|      NULL|         NULL|              NULL|        NULL|            NULL|         1|             0|            17296| 539.3763|   0.234211|            282.0062|                  0.0000|          6|0.1871|          1|0.0312|                 0|          0|0.0000|    14210|     10250|  319.6466|       0.258633|     9260|      NULL|     282|        250|          32|                   28|                      4| 8.7942|    3487|  3259|    78|        2510|      2419|        51|         977|       840|        27|        2|          0|         0|            0|              0|             2|    5676|  5475|   125|        4088|      4477|       103|        1588|       998|        22|        3|          0|         0|            0|              0|             3|\n",
            "|TRLH3/33|        complete|http://matchhisto...|EU LCS|2014|Spring|       0|2014-01-14 17:52:02|   1| 3.15|            5|Blue|     sup| YellOwStaR|oe:player:5ebcf3b...|           Fnatic|oe:team:78f183fa5...|    Annie|   Riven|Kha'Zix|Yasuo|NULL|NULL|      1924|     1|    0|     0|     15|       21|         5|          0|          0|          0|         0|         1|             0|               1|               0|  0.6549|0.8108|       NULL|   NULL|       NULL|           NULL|               NULL|     NULL|     NULL|  NULL|  NULL|     NULL|    NULL|                  NULL|  NULL|      NULL|       NULL|   NULL|       NULL|      NULL|  NULL|      NULL|      NULL|  NULL|      NULL|         NULL|              NULL|        NULL|            NULL|         0|             0|             9217| 287.4324|    0.12481|            208.4719|                  0.0000|         38|1.1850|          2|0.0624|                 3|          0|0.0000|     9045|      5085|  158.5759|       0.128312|     6390|      NULL|      11|         11|           0|                    0|                      0| 0.3430|    2132|  3079|     5|        1795|      2783|        14|         337|       296|        -9|        0|          3|         0|            0|              0|             1|    3479|  4695|     8|        2592|      4219|        23|         887|       476|       -15|        0|          4|         0|            0|              0|             1|\n",
            "|TRLH3/33|        complete|http://matchhisto...|EU LCS|2014|Spring|       0|2014-01-14 17:52:02|   1| 3.15|            6| Red|     top|     Darien|oe:player:c248a75...|    Gambit Gaming|oe:team:3e18c3270...|Dr. Mundo|Kassadin|Nidalee|Elise|NULL|NULL|      1924|     0|    1|     5|      2|        5|        21|          0|          0|          0|         0|         0|             0|               0|               0|  0.1559|0.8108|       NULL|   NULL|       NULL|           NULL|               NULL|     NULL|     NULL|  NULL|  NULL|     NULL|    NULL|                  NULL|  NULL|      NULL|       NULL|   NULL|       NULL|      NULL|  NULL|      NULL|      NULL|  NULL|      NULL|         NULL|              NULL|        NULL|            NULL|         0|             0|            22507| 701.8815|   0.413945|            958.5031|                  0.0000|         11|0.3430|          3|0.0936|                 1|          0|0.0000|    10050|      6090|  189.9168|       0.239525|     7920|      NULL|     232|        213|          19|                   13|                      6| 7.2349|    3086|  3994|    57|        3080|      3907|        57|           6|        87|         0|        1|          1|         1|            2|              0|             0|    4788|  7175|   111|        4837|      6615|       110|         -49|       560|         1|        1|          1|         1|            2|              0|             0|\n",
            "|TRLH3/33|        complete|http://matchhisto...|EU LCS|2014|Spring|       0|2014-01-14 17:52:02|   1| 3.15|            7| Red|     jng|Diamondprox|oe:player:1c7db66...|    Gambit Gaming|oe:team:3e18c3270...|  Shyvana|Kassadin|Nidalee|Elise|NULL|NULL|      1924|     0|    2|     3|      2|        5|        21|          0|          0|          0|         0|         0|             0|               0|               0|  0.1559|0.8108|       NULL|   NULL|       NULL|           NULL|               NULL|     NULL|     NULL|  NULL|  NULL|     NULL|    NULL|                  NULL|  NULL|      NULL|       NULL|   NULL|       NULL|      NULL|  NULL|      NULL|      NULL|  NULL|      NULL|         NULL|              NULL|        NULL|            NULL|         0|             1|             9262| 288.8358|   0.170345|            982.5156|                  0.0000|         15|0.4678|          2|0.0624|                 0|          0|0.0000|     9688|      5728|  178.6279|       0.225288|     8200|      NULL|     164|         68|          96|                   75|                     21| 5.1143|    3437|  4157|    59|        2335|      2732|        32|        1102|      1425|        27|        2|          0|         0|            0|              2|             2|    4976|  6739|    95|        3869|      6036|        59|        1107|       703|        36|        2|          0|         0|            0|              2|             2|\n",
            "|TRLH3/33|        complete|http://matchhisto...|EU LCS|2014|Spring|       0|2014-01-14 17:52:02|   1| 3.15|            8| Red|     mid|   Alex Ich|oe:player:70f2e5e...|    Gambit Gaming|oe:team:3e18c3270...|  LeBlanc|Kassadin|Nidalee|Elise|NULL|NULL|      1924|     0|    2|     2|      2|        5|        21|          0|          0|          0|         0|         0|             0|               0|               0|  0.1559|0.8108|       NULL|   NULL|       NULL|           NULL|               NULL|     NULL|     NULL|  NULL|  NULL|     NULL|    NULL|                  NULL|  NULL|      NULL|       NULL|   NULL|       NULL|      NULL|  NULL|      NULL|      NULL|  NULL|      NULL|         NULL|              NULL|        NULL|            NULL|         0|             0|            10991| 342.7547|   0.202144|            418.8150|                  0.0000|          7|0.2183|          0|0.0000|                 0|          0|0.0000|    10690|      6730|  209.8753|       0.264695|     8080|      NULL|     269|        234|          35|                   35|                      0| 8.3888|    3142|  4303|    68|        2817|      4216|        73|         325|        87|        -5|        0|          2|         0|            0|              1|             1|    4902|  7564|   126|        4757|      7416|       133|         145|       148|        -7|        0|          2|         0|            0|              1|             1|\n",
            "|TRLH3/33|        complete|http://matchhisto...|EU LCS|2014|Spring|       0|2014-01-14 17:52:02|   1| 3.15|            9| Red|     bot|      Genja|oe:player:0cd6ba5...|    Gambit Gaming|oe:team:3e18c3270...|   Lucian|Kassadin|Nidalee|Elise|NULL|NULL|      1924|     0|    0|     5|      0|        5|        21|          0|          0|          0|         0|         0|             0|               0|               1|  0.1559|0.8108|       NULL|   NULL|       NULL|           NULL|               NULL|     NULL|     NULL|  NULL|  NULL|     NULL|    NULL|                  NULL|  NULL|      NULL|       NULL|   NULL|       NULL|      NULL|  NULL|      NULL|      NULL|  NULL|      NULL|         NULL|              NULL|        NULL|            NULL|         0|             1|             8267| 257.8067|   0.152045|            504.1996|                  0.0000|          7|0.2183|          1|0.0312|                 0|          0|0.0000|     9028|      5068|  158.0457|       0.199331|     7040|      NULL|     211|        189|          22|                   20|                      2| 6.5800|    2510|  2419|    51|        3487|      3259|        78|        -977|      -840|       -27|        0|          0|         2|            2|              0|             0|    4088|  4477|   103|        5676|      5475|       125|       -1588|      -998|       -22|        0|          0|         3|            3|              0|             0|\n",
            "|TRLH3/33|        complete|http://matchhisto...|EU LCS|2014|Spring|       0|2014-01-14 17:52:02|   1| 3.15|           10| Red|     sup|     Edward|oe:player:243f633...|    Gambit Gaming|oe:team:3e18c3270...|   Thresh|Kassadin|Nidalee|Elise|NULL|NULL|      1924|     0|    0|     6|      2|        5|        21|          0|          0|          0|         0|         0|             0|               0|               0|  0.1559|0.8108|       NULL|   NULL|       NULL|           NULL|               NULL|     NULL|     NULL|  NULL|  NULL|     NULL|    NULL|                  NULL|  NULL|      NULL|       NULL|   NULL|       NULL|      NULL|  NULL|      NULL|      NULL|  NULL|      NULL|         NULL|              NULL|        NULL|            NULL|         0|             0|             3345| 104.3139|  0.0615206|            509.9376|                  0.0000|         26|0.8108|          7|0.2183|                 1|          0|0.0000|     5769|      1809|   56.4137|      0.0711606|     5675|      NULL|      36|         35|           1|                    1|                      0| 1.1227|    1795|  2783|    14|        2132|      3079|         5|        -337|      -296|         9|        0|          0|         1|            0|              3|             0|    2592|  4219|    23|        3479|      4695|         8|        -887|      -476|        15|        0|          0|         1|            0|              4|             0|\n",
            "|TRLH3/33|        complete|http://matchhisto...|EU LCS|2014|Spring|       0|2014-01-14 17:52:02|   1| 3.15|          100|Blue|    team|       NULL|                NULL|           Fnatic|oe:team:78f183fa5...|     NULL|   Riven|Kha'Zix|Yasuo|NULL|NULL|      1924|     1|   21|     5|     58|       21|         5|          6|          2|          0|         0|         1|          NULL|            NULL|            NULL|  0.6549|0.8108|          0|      0|          0|           NULL|               NULL|        0|        0|     0|     0|     NULL|    NULL|                  NULL|     0|         0|       NULL|   NULL|       NULL|         1|     1|         0|         1|    10|         1|            1|                 1|        NULL|            NULL|         2|             0|            73848|2302.9522|       NULL|           2496.4553|                  0.0000|         81|2.5260|          6|0.1871|                 4|          0|0.0000|    59431|     39633| 1235.9563|           NULL|    40100| 0.0827112|    NULL|        741|         152|                  137|                     15|27.8482|   13851| 17193|   245|       13970|     17656|       249|        -119|      -463|        -4|        4|          6|         3|            3|              3|             4|   22618| 30237|   435|       21346|     30174|       458|        1272|        63|       -23|        5|          7|         3|            3|              3|             5|\n",
            "|TRLH3/33|        complete|http://matchhisto...|EU LCS|2014|Spring|       0|2014-01-14 17:52:02|   1| 3.15|          200| Red|    team|       NULL|                NULL|    Gambit Gaming|oe:team:3e18c3270...|     NULL|Kassadin|Nidalee|Elise|NULL|NULL|      1924|     0|    5|    21|      8|        5|        21|          0|          0|          0|         0|         0|          NULL|            NULL|            NULL|  0.1559|0.8108|          1|      0|          0|           NULL|               NULL|        0|        0|     0|     0|     NULL|    NULL|                  NULL|     0|         0|       NULL|   NULL|       NULL|         0|     0|         1|         0|     1|        10|            0|                 0|        NULL|            NULL|         0|             2|            54372|1695.5925|       NULL|           3373.9709|                  0.0000|         66|2.0582|         13|0.4054|                 2|          0|0.0000|    45225|     25427|  792.9418|           NULL|    36915|-0.0827112|    NULL|        739|         173|                  144|                     29|28.4407|   13970| 17656|   249|       13851|     17193|       245|         119|       463|         4|        3|          3|         4|            4|              6|             3|   21346| 30174|   458|       22618|     30237|       435|       -1272|       -63|        23|        3|          3|         5|            5|              7|             3|\n",
            "|TRLH3/44|        complete|http://matchhisto...|EU LCS|2014|Spring|       0|2014-01-14 19:16:29|   1| 3.15|            1|Blue|     top|  YoungBuck|oe:player:479114a...|Copenhagen Wolves|oe:team:6d92c120d...|  Shyvana| Lee Sin|  Annie|Yasuo|NULL|NULL|      2474|     1|    4|     2|      6|       14|         9|          0|          0|          0|         0|         0|             0|               0|               0|  0.3395|0.5578|       NULL|   NULL|       NULL|           NULL|               NULL|     NULL|     NULL|  NULL|  NULL|     NULL|    NULL|                  NULL|  NULL|      NULL|       NULL|   NULL|       NULL|      NULL|  NULL|      NULL|      NULL|  NULL|      NULL|         NULL|              NULL|        NULL|            NULL|         0|             0|            25351| 614.8181|   0.261439|            786.5481|                  0.0000|         16|0.3880|          5|0.1213|                 2|          0|0.0000|    14759|      9754|  236.5562|       0.212848|    10530|      NULL|     269|        254|          15|                    7|                      8| 6.5238|    3268|  4433|    83|        3199|      4336|        82|          69|        97|         1|        1|          0|         1|            1|              0|             1|    5036|  7218|   134|        5203|      7344|       144|        -167|      -126|       -10|        1|          0|         1|            1|              0|             1|\n",
            "|TRLH3/44|        complete|http://matchhisto...|EU LCS|2014|Spring|       0|2014-01-14 19:16:29|   1| 3.15|            2|Blue|     jng|    Amazing|oe:player:0c80257...|Copenhagen Wolves|oe:team:6d92c120d...|    Elise| Lee Sin|  Annie|Yasuo|NULL|NULL|      2474|     1|    4|     0|      9|       14|         9|          0|          0|          0|         0|         0|             0|               0|               0|  0.3395|0.5578|       NULL|   NULL|       NULL|           NULL|               NULL|     NULL|     NULL|  NULL|  NULL|     NULL|    NULL|                  NULL|  NULL|      NULL|       NULL|   NULL|       NULL|      NULL|  NULL|      NULL|      NULL|  NULL|      NULL|         NULL|              NULL|        NULL|            NULL|         0|             0|            19451| 471.7300|   0.200594|            592.1908|                  0.0000|         19|0.4608|          3|0.0728|                 1|          0|0.0000|    14271|      9266|  224.7211|         0.2022|     9430|      NULL|     148|         48|         100|                   83|                     17| 3.5893|    2810|  3945|    38|        2681|      4014|        40|         129|       -69|        -2|        1|          1|         0|            0|              3|             0|    4229|  5702|    60|        4231|      6294|        65|          -2|      -592|        -5|        1|          1|         0|            0|              4|             0|\n",
            "|TRLH3/44|        complete|http://matchhisto...|EU LCS|2014|Spring|       0|2014-01-14 19:16:29|   1| 3.15|            3|Blue|     mid|    cowTard|oe:player:9715186...|Copenhagen Wolves|oe:team:6d92c120d...|    Kayle| Lee Sin|  Annie|Yasuo|NULL|NULL|      2474|     1|    4|     1|      5|       14|         9|          1|          0|          0|         0|         0|             0|               0|               0|  0.3395|0.5578|       NULL|   NULL|       NULL|           NULL|               NULL|     NULL|     NULL|  NULL|  NULL|     NULL|    NULL|                  NULL|  NULL|      NULL|       NULL|   NULL|       NULL|      NULL|  NULL|      NULL|      NULL|  NULL|      NULL|         NULL|              NULL|        NULL|            NULL|         1|             0|            19729| 478.4721|   0.203461|            530.6144|                  0.0000|         13|0.3153|          2|0.0485|                 1|          0|0.0000|    15724|     10719|  259.9596|       0.233905|    11115|      NULL|     311|        284|          27|                   23|                      4| 7.5424|    2873|  4638|    74|        3024|      4892|        71|        -151|      -254|         3|        0|          0|         1|            1|              0|             0|    4566|  7519|   125|        4764|      7465|       120|        -198|        54|         5|        0|          0|         1|            1|              0|             0|\n",
            "|TRLH3/44|        complete|http://matchhisto...|EU LCS|2014|Spring|       0|2014-01-14 19:16:29|   1| 3.15|            4|Blue|     bot|   FORG1VEN|oe:player:493eb5b...|Copenhagen Wolves|oe:team:6d92c120d...|   Lucian| Lee Sin|  Annie|Yasuo|NULL|NULL|      2474|     1|    1|     3|      9|       14|         9|          0|          0|          0|         0|         0|             0|               0|               0|  0.3395|0.5578|       NULL|   NULL|       NULL|           NULL|               NULL|     NULL|     NULL|  NULL|  NULL|     NULL|    NULL|                  NULL|  NULL|      NULL|       NULL|   NULL|       NULL|      NULL|  NULL|      NULL|      NULL|  NULL|      NULL|         NULL|              NULL|        NULL|            NULL|         0|             0|            22811| 553.2175|   0.235245|            453.0315|                  0.0000|         10|0.2425|          4|0.0970|                 0|          0|0.0000|    15457|     10452|  253.4842|       0.228079|    10078|      NULL|     336|        281|          55|                   51|                      4| 8.1487|    2684|  2630|    62|        3169|      3008|        60|        -485|      -378|         2|        0|          1|         1|            1|              1|             1|    4385|  4711|   114|        5187|      4880|       101|        -802|      -169|        13|        0|          1|         1|            2|              1|             1|\n",
            "|TRLH3/44|        complete|http://matchhisto...|EU LCS|2014|Spring|       0|2014-01-14 19:16:29|   1| 3.15|            5|Blue|     sup|  Unlimited|oe:player:859f90d...|Copenhagen Wolves|oe:team:6d92c120d...|     Lulu| Lee Sin|  Annie|Yasuo|NULL|NULL|      2474|     1|    1|     3|     10|       14|         9|          0|          0|          0|         0|         0|             0|               0|               1|  0.3395|0.5578|       NULL|   NULL|       NULL|           NULL|               NULL|     NULL|     NULL|  NULL|  NULL|     NULL|    NULL|                  NULL|  NULL|      NULL|       NULL|   NULL|       NULL|      NULL|  NULL|      NULL|      NULL|  NULL|      NULL|         NULL|              NULL|        NULL|            NULL|         0|             0|             9625| 233.4276|  0.0992606|            418.3508|                  0.0000|         38|0.9216|          2|0.0485|                 3|          0|0.0000|    10640|      5635|  136.6613|       0.122968|     7570|      NULL|      16|         13|           3|                    2|                      1| 0.3880|    2157|  3065|     6|        1898|      2919|         3|         259|       146|         3|        1|          1|         1|            1|              1|             1|    2978|  4292|     7|        2958|      4292|         9|          20|         0|        -2|        1|          1|         2|            1|              2|             1|\n",
            "|TRLH3/44|        complete|http://matchhisto...|EU LCS|2014|Spring|       0|2014-01-14 19:16:29|   1| 3.15|            6| Red|     top|      Wickd|oe:player:5f54026...|         Alliance|oe:team:05bd29b52...| Renekton|Kassadin|Kha'Zix|Ziggs|NULL|NULL|      2474|     0|    1|     2|      2|        9|        14|          0|          0|          0|         0|         0|             0|               0|               0|  0.2183|0.5578|       NULL|   NULL|       NULL|           NULL|               NULL|     NULL|     NULL|  NULL|  NULL|     NULL|    NULL|                  NULL|  NULL|      NULL|       NULL|   NULL|       NULL|      NULL|  NULL|      NULL|      NULL|  NULL|      NULL|         NULL|              NULL|        NULL|            NULL|         0|             0|            12183| 295.4648|   0.147171|            815.8933|                  0.0000|         14|0.3395|          4|0.0970|                 2|          0|0.0000|    12056|      7051|  171.0024|       0.237413|     9405|      NULL|     289|        265|          24|                   24|                      0| 7.0089|    3199|  4336|    82|        3268|      4433|        83|         -69|       -97|        -1|        1|          0|         1|            1|              0|             1|    5203|  7344|   144|        5036|      7218|       134|         167|       126|        10|        1|          0|         1|            1|              0|             1|\n",
            "|TRLH3/44|        complete|http://matchhisto...|EU LCS|2014|Spring|       0|2014-01-14 19:16:29|   1| 3.15|            7| Red|     jng|      Shook|oe:player:3ce5fd1...|         Alliance|oe:team:05bd29b52...|       Vi|Kassadin|Kha'Zix|Ziggs|NULL|NULL|      2474|     0|    1|     2|      6|        9|        14|          0|          0|          0|         0|         1|             0|               1|               0|  0.2183|0.5578|       NULL|   NULL|       NULL|           NULL|               NULL|     NULL|     NULL|  NULL|  NULL|     NULL|    NULL|                  NULL|  NULL|      NULL|       NULL|   NULL|       NULL|      NULL|  NULL|      NULL|      NULL|  NULL|      NULL|         NULL|              NULL|        NULL|            NULL|         0|             0|             6316| 153.1770|  0.0762977|            732.9264|                  0.0000|         13|0.3153|          3|0.0728|                 3|          0|0.0000|     9928|      4923|  119.3937|       0.165765|     7650|      NULL|     115|         26|          89|                   88|                      1| 2.7890|    2681|  4014|    40|        2810|      3945|        38|        -129|        69|         2|        0|          3|         0|            1|              1|             0|    4231|  6294|    65|        4229|      5702|        60|           2|       592|         5|        0|          4|         0|            1|              1|             0|\n",
            "|TRLH3/44|        complete|http://matchhisto...|EU LCS|2014|Spring|       0|2014-01-14 19:16:29|   1| 3.15|            8| Red|     mid|    Froggen|oe:player:a3d74b5...|         Alliance|oe:team:05bd29b52...|   Gragas|Kassadin|Kha'Zix|Ziggs|NULL|NULL|      2474|     0|    2|     1|      2|        9|        14|          0|          0|          0|         0|         0|             0|               0|               0|  0.2183|0.5578|       NULL|   NULL|       NULL|           NULL|               NULL|     NULL|     NULL|  NULL|  NULL|     NULL|    NULL|                  NULL|  NULL|      NULL|       NULL|   NULL|       NULL|      NULL|  NULL|      NULL|      NULL|  NULL|      NULL|         NULL|              NULL|        NULL|            NULL|         0|             1|            30868| 748.6176|   0.372887|            442.1423|                  0.0000|         14|0.3395|          1|0.0243|                 0|          0|0.0000|    12905|      7900|  191.5926|       0.265998|     8675|      NULL|     342|        316|          26|                   23|                      3| 8.2943|    3024|  4892|    71|        2873|      4638|        74|         151|       254|        -3|        1|          0|         0|            0|              0|             1|    4764|  7465|   120|        4566|      7519|       125|         198|       -54|        -5|        1|          0|         0|            0|              0|             1|\n",
            "+--------+----------------+--------------------+------+----+------+--------+-------------------+----+-----+-------------+----+--------+-----------+--------------------+-----------------+--------------------+---------+--------+-------+-----+----+----+----------+------+-----+------+-------+---------+----------+-----------+-----------+-----------+----------+----------+--------------+----------------+----------------+--------+------+-----------+-------+-----------+---------------+-------------------+---------+---------+------+------+---------+--------+----------------------+------+----------+-----------+-------+-----------+----------+------+----------+----------+------+----------+-------------+------------------+------------+----------------+----------+--------------+-----------------+---------+-----------+--------------------+------------------------+-----------+------+-----------+------+------------------+-----------+------+---------+----------+----------+---------------+---------+----------+--------+-----------+------------+---------------------+-----------------------+-------+--------+------+------+------------+----------+----------+------------+----------+----------+---------+-----------+----------+-------------+---------------+--------------+--------+------+------+------------+----------+----------+------------+----------+----------+---------+-----------+----------+-------------+---------------+--------------+\n",
            "only showing top 20 rows\n",
            "\n"
          ]
        }
      ]
    },
    {
      "cell_type": "code",
      "source": [
        "#create temporary view and cache\n",
        "LoL_Match_dfALL.createOrReplaceTempView('LoL_Match_dfALL')\n",
        "LoL_Match_df2023.createOrReplaceTempView('LoL_Match_df2023')\n",
        "\n",
        "spark.sql(\"cache table LoL_Match_dfALL\")\n",
        "spark.sql(\"cache table LoL_Match_df2023\")\n"
      ],
      "metadata": {
        "id": "nfc8AKm4S2t4",
        "colab": {
          "base_uri": "https://localhost:8080/"
        },
        "outputId": "31246e03-4965-4e9d-b794-7a83566a6406"
      },
      "execution_count": 8,
      "outputs": [
        {
          "output_type": "execute_result",
          "data": {
            "text/plain": [
              "DataFrame[]"
            ]
          },
          "metadata": {},
          "execution_count": 8
        }
      ]
    },
    {
      "cell_type": "code",
      "source": [
        "#query number of wins of each team from 2014 - 2023\n",
        "spark.sql(\"\"\"\n",
        "(SELECT teamname, SUM(result) AS Total_Wins\n",
        "FROM LoL_Match_dfALL\n",
        "GROUP BY teamname\n",
        "ORDER BY Total_Wins DESC)\n",
        "\"\"\").show()"
      ],
      "metadata": {
        "id": "Ord9aXzAh63U",
        "colab": {
          "base_uri": "https://localhost:8080/"
        },
        "outputId": "bfe2fa24-83de-44fb-be1b-4299d43d0743"
      },
      "execution_count": 9,
      "outputs": [
        {
          "output_type": "stream",
          "name": "stdout",
          "text": [
            "+-------------------+----------+\n",
            "|           teamname|Total_Wins|\n",
            "+-------------------+----------+\n",
            "|Royal Never Give Up|    3648.0|\n",
            "|       unknown team|    3564.0|\n",
            "|      EDward Gaming|    3474.0|\n",
            "|         KT Rolster|    3210.0|\n",
            "|             Cloud9|    3138.0|\n",
            "|             Fnatic|    2808.0|\n",
            "|         G2 Esports|    2742.0|\n",
            "|    Invictus Gaming|    2676.0|\n",
            "|          JD Gaming|    2676.0|\n",
            "|                TSM|    2664.0|\n",
            "|      SK Telecom T1|    2598.0|\n",
            "|              Gen.G|    2490.0|\n",
            "|            DWG KIA|    2472.0|\n",
            "|         Royal Club|    2460.0|\n",
            "|            Team WE|    2460.0|\n",
            "|        Team Liquid|    2388.0|\n",
            "|     Young Miracles|    2376.0|\n",
            "|        GAM Esports|    2298.0|\n",
            "|   Kwangdong Freecs|    2274.0|\n",
            "|    FunPlus Phoenix|    2154.0|\n",
            "+-------------------+----------+\n",
            "only showing top 20 rows\n",
            "\n"
          ]
        }
      ]
    },
    {
      "cell_type": "code",
      "source": [
        "#Average KDA Score of each team Sorted by Kills from 2014 - 2023\n",
        "spark.sql(\"\"\"\n",
        "(SELECT teamname, ROUND(AVG(kills),2) as Kills,  ROUND(AVG(deaths),2) as Deaths,  ROUND(AVG(assists),2) as Assists\n",
        "FROM LoL_Match_dfALL\n",
        "GROUP BY teamname\n",
        "ORDER BY Kills DESC)\n",
        "\"\"\").show()"
      ],
      "metadata": {
        "colab": {
          "base_uri": "https://localhost:8080/"
        },
        "id": "09Br4s0-v4gp",
        "outputId": "1161f0d3-1ab0-4207-89f4-10a5fe59104a"
      },
      "execution_count": 10,
      "outputs": [
        {
          "output_type": "stream",
          "name": "stdout",
          "text": [
            "+--------------------+-----+------+-------+\n",
            "|            teamname|Kills|Deaths|Assists|\n",
            "+--------------------+-----+------+-------+\n",
            "|       Noble Esports| 9.79|  8.83|  17.71|\n",
            "|           Outplayed|  9.0|  6.33|  18.33|\n",
            "|             Orgless| 8.96|  5.57|  17.47|\n",
            "|  Connecting Esports| 8.87|  11.2|   19.2|\n",
            "|Domme Jongens Aca...| 8.83|  3.47|  15.67|\n",
            "|Oyun Hizmetleri Ç...|  8.5|   6.0|  17.44|\n",
            "|            Nate9527|  8.5|   3.5|  20.28|\n",
            "|   Synthetic Esports| 8.36|  7.94|  16.11|\n",
            "|Saint Louis Unive...|  8.3|  6.85|  16.33|\n",
            "|       Avia Deceptor| 8.22|  3.67|  19.78|\n",
            "|      Nerf Galeforce| 8.14|  5.95|  13.63|\n",
            "|   Team MCES Academy| 8.11|  3.56|  17.94|\n",
            "| Team Ambition Sussy| 7.73|  7.47|  14.87|\n",
            "|        AZIO eSports| 7.62|  6.21|  14.19|\n",
            "|    Bastards Esports| 7.61|  6.59|   14.4|\n",
            "|Area of Effect Brady| 7.58|  7.79|  13.67|\n",
            "|       Team E Turner| 7.57|  5.38|  16.24|\n",
            "|Earth Revolution ...| 7.56|  6.19|  15.26|\n",
            "|       Samsung White| 7.53|  2.63|  17.45|\n",
            "|       Team Coachify| 7.51|   4.9|  17.54|\n",
            "+--------------------+-----+------+-------+\n",
            "only showing top 20 rows\n",
            "\n"
          ]
        }
      ]
    },
    {
      "cell_type": "code",
      "source": [
        "#Average KDA Score of each team from 2014 - 2023 Sorted by Deaths\n",
        "spark.sql(\"\"\"\n",
        "(SELECT teamname, ROUND(AVG(kills),2) as Kills,  ROUND(AVG(deaths),2) as Deaths,  ROUND(AVG(assists),2) as Assists\n",
        "FROM LoL_Match_dfALL\n",
        "GROUP BY teamname\n",
        "ORDER BY Deaths DESC)\n",
        "\"\"\").show()"
      ],
      "metadata": {
        "id": "mTJ2JGb3v5G8",
        "colab": {
          "base_uri": "https://localhost:8080/"
        },
        "outputId": "40dc1431-2f4c-415c-bcbf-b3815ab34dd7"
      },
      "execution_count": 11,
      "outputs": [
        {
          "output_type": "stream",
          "name": "stdout",
          "text": [
            "+--------------------+-----+------+-------+\n",
            "|            teamname|Kills|Deaths|Assists|\n",
            "+--------------------+-----+------+-------+\n",
            "|  Connecting Esports| 8.87|  11.2|   19.2|\n",
            "|Purdue University...| 4.26| 10.11|   7.41|\n",
            "|Florida Southern ...|  5.5|  9.83|    8.0|\n",
            "|         Lotus Bloom| 4.78|  9.78|   8.56|\n",
            "|        Goose Gaming| 4.33|   9.6|    6.2|\n",
            "|Boise State Unive...| 5.67|  9.59|  10.56|\n",
            "|Illinois Wesleyan...| 5.88|  9.46|  10.67|\n",
            "|           Empyreans| 5.93|  9.44|  11.37|\n",
            "|Invulnerables Esp...| 3.58|  9.42|   6.92|\n",
            "|              Aporia| 3.25|  9.42|   8.58|\n",
            "|         Noble Truth| 2.67|  9.33|   5.83|\n",
            "|      Afreeca Freecs| 3.67|  9.33|    5.0|\n",
            "|        Murk Esports| 3.72|  9.17|   6.11|\n",
            "|       Medieval Riga| 4.13|  9.12|   8.55|\n",
            "|             affNity|  5.0|  9.11|  12.78|\n",
            "|       Sad Squidward| 4.17|   9.0|   9.67|\n",
            "|       Noble Esports| 9.79|  8.83|  17.71|\n",
            "|         Call Gaming| 1.83|  8.83|   4.17|\n",
            "|     Sailors Esports|  3.0|  8.83|    6.0|\n",
            "|  Peak Performance Y| 3.89|  8.78|   6.94|\n",
            "+--------------------+-----+------+-------+\n",
            "only showing top 20 rows\n",
            "\n"
          ]
        }
      ]
    },
    {
      "cell_type": "code",
      "source": [
        "\n",
        "#Average KDA Score of each team from 2014 - 2023 Sorted by Assists\n",
        "spark.sql(\"\"\"\n",
        "(SELECT teamname, ROUND(AVG(kills),2) as Kills,  ROUND(AVG(deaths),2) as Deaths,  ROUND(AVG(assists),2) as Assists\n",
        "FROM LoL_Match_dfALL\n",
        "GROUP BY teamname\n",
        "ORDER BY Assists DESC)\n",
        "\"\"\").show()"
      ],
      "metadata": {
        "id": "GAxdWMtXv5QN",
        "colab": {
          "base_uri": "https://localhost:8080/"
        },
        "outputId": "c4fc2040-e6da-4777-ffaf-38b6edf29959"
      },
      "execution_count": 12,
      "outputs": [
        {
          "output_type": "stream",
          "name": "stdout",
          "text": [
            "+--------------------+-----+------+-------+\n",
            "|            teamname|Kills|Deaths|Assists|\n",
            "+--------------------+-----+------+-------+\n",
            "|            Nate9527|  8.5|   3.5|  20.28|\n",
            "|       Avia Deceptor| 8.22|  3.67|  19.78|\n",
            "|  Connecting Esports| 8.87|  11.2|   19.2|\n",
            "|           Outplayed|  9.0|  6.33|  18.33|\n",
            "|            Departed| 7.33|   3.5|   18.0|\n",
            "|   Team MCES Academy| 8.11|  3.56|  17.94|\n",
            "|       Noble Esports| 9.79|  8.83|  17.71|\n",
            "|       Team Coachify| 7.51|   4.9|  17.54|\n",
            "|Area of Effect eS...| 6.33|   6.0|   17.5|\n",
            "|             Orgless| 8.96|  5.57|  17.47|\n",
            "|       Samsung White| 7.53|  2.63|  17.45|\n",
            "|Oyun Hizmetleri Ç...|  8.5|   6.0|  17.44|\n",
            "|Back2TheGame Outlaws| 7.42|  4.79|  17.21|\n",
            "|    Teamless Revenge| 7.14|   6.1|  16.71|\n",
            "|Saint Louis Unive...|  8.3|  6.85|  16.33|\n",
            "|          Team Orora| 6.83|  4.67|  16.25|\n",
            "|       Team E Turner| 7.57|  5.38|  16.24|\n",
            "|      Geekay Esports| 6.58|  4.79|  16.15|\n",
            "|   Synthetic Esports| 8.36|  7.94|  16.11|\n",
            "|            BrawL.NA| 5.83|   7.0|   16.0|\n",
            "+--------------------+-----+------+-------+\n",
            "only showing top 20 rows\n",
            "\n"
          ]
        }
      ]
    },
    {
      "cell_type": "code",
      "source": [
        "# Next few queries are the same as the previous four, though these only apply to the year of 2023"
      ],
      "metadata": {
        "id": "O6BH3blNzSoo"
      },
      "execution_count": 13,
      "outputs": []
    },
    {
      "cell_type": "code",
      "source": [
        "spark.sql(\"\"\"\n",
        "(SELECT teamname, SUM(result) AS Total_Wins\n",
        "FROM LoL_Match_df2023\n",
        "GROUP BY teamname\n",
        "ORDER BY Total_Wins DESC)\n",
        "\"\"\").show()"
      ],
      "metadata": {
        "colab": {
          "base_uri": "https://localhost:8080/"
        },
        "id": "KwQ08KGHzYJx",
        "outputId": "9fbadbc1-6da0-44c6-f6c1-9e5b0860c3a1"
      },
      "execution_count": 14,
      "outputs": [
        {
          "output_type": "stream",
          "name": "stdout",
          "text": [
            "+--------------------+----------+\n",
            "|            teamname|Total_Wins|\n",
            "+--------------------+----------+\n",
            "|        unknown team|     600.0|\n",
            "|     Bilibili Gaming|     600.0|\n",
            "|               Gen.G|     570.0|\n",
            "|           JD Gaming|     570.0|\n",
            "|                  T1|     558.0|\n",
            "|          KT Rolster|     528.0|\n",
            "|Dplus KIA Challen...|     504.0|\n",
            "|         GAM Esports|     468.0|\n",
            "|         LNG Esports|     450.0|\n",
            "|Top Esports Chall...|     438.0|\n",
            "|        Weibo Gaming|     432.0|\n",
            "|     DRX Challengers|     432.0|\n",
            "|             Team GO|     426.0|\n",
            "|                 MAX|     414.0|\n",
            "|          G2 Esports|     408.0|\n",
            "|Anorthosis Famagu...|     384.0|\n",
            "|Nongshim Esports ...|     384.0|\n",
            "|          Royal Club|     378.0|\n",
            "|       EDward Gaming|     378.0|\n",
            "|           Dplus KIA|     372.0|\n",
            "+--------------------+----------+\n",
            "only showing top 20 rows\n",
            "\n"
          ]
        }
      ]
    },
    {
      "cell_type": "code",
      "source": [
        "spark.sql(\"\"\"\n",
        "(SELECT teamname, ROUND(AVG(kills),2) as Kills,  ROUND(AVG(deaths),2) as Deaths,  ROUND(AVG(assists),2) as Assists\n",
        "FROM LoL_Match_df2023\n",
        "GROUP BY teamname\n",
        "ORDER BY Kills DESC)\n",
        "\"\"\").show()"
      ],
      "metadata": {
        "colab": {
          "base_uri": "https://localhost:8080/"
        },
        "id": "-lyE1Lf_zYeR",
        "outputId": "76121ddf-0fb5-43cf-d470-6aadb482435c"
      },
      "execution_count": 15,
      "outputs": [
        {
          "output_type": "stream",
          "name": "stdout",
          "text": [
            "+--------------------+-----+------+-------+\n",
            "|            teamname|Kills|Deaths|Assists|\n",
            "+--------------------+-----+------+-------+\n",
            "|  Connecting Esports| 8.87|  11.2|   19.2|\n",
            "|            Nate9527|  8.5|   3.5|  20.28|\n",
            "| Lundqvist Lightside|  8.0|  4.81|  18.48|\n",
            "|       Team E Turner| 7.57|  5.38|  16.24|\n",
            "|       Team Coachify| 7.51|   4.9|  17.54|\n",
            "|Back2TheGame Outlaws| 7.42|  4.79|  17.21|\n",
            "|Hurricane of Feat...| 7.37|   6.8|   14.7|\n",
            "|    Teamless Revenge| 7.14|   6.1|  16.71|\n",
            "|       Domme Jongens| 6.92|  8.08|  13.83|\n",
            "|    Once Upon A Team|  6.9|  6.53|  13.63|\n",
            "|      Zylant Esports| 6.88|  3.97|  15.26|\n",
            "|                 NXT| 6.71|  5.64|  14.07|\n",
            "|       BRION Academy| 6.61|  5.42|  14.66|\n",
            "|  KT Rolster Academy| 6.59|  4.73|  15.82|\n",
            "|      Geekay Esports| 6.58|  4.79|  16.15|\n",
            "|            Goskilla| 6.48|  3.81|  14.52|\n",
            "|     Mirage Alliance| 6.42|  4.88|  14.74|\n",
            "|  Dplus KIA  Academy| 6.41|  5.26|   14.5|\n",
            "|             Dynasty| 6.41|  4.78|  14.87|\n",
            "|         Szaty Bobra| 6.37|  4.97|  15.27|\n",
            "+--------------------+-----+------+-------+\n",
            "only showing top 20 rows\n",
            "\n"
          ]
        }
      ]
    },
    {
      "cell_type": "code",
      "source": [
        "spark.sql(\"\"\"\n",
        "(SELECT teamname, ROUND(AVG(kills),2) as Kills,  ROUND(AVG(deaths),2) as Deaths,  ROUND(AVG(assists),2) as Assists\n",
        "FROM LoL_Match_df2023\n",
        "GROUP BY teamname\n",
        "ORDER BY Deaths DESC)\n",
        "\"\"\").show()"
      ],
      "metadata": {
        "colab": {
          "base_uri": "https://localhost:8080/"
        },
        "id": "1QanQhpbzSlI",
        "outputId": "93e41b96-11b0-497c-f38b-f2eb8da48c32"
      },
      "execution_count": 16,
      "outputs": [
        {
          "output_type": "stream",
          "name": "stdout",
          "text": [
            "+--------------------+-----+------+-------+\n",
            "|            teamname|Kills|Deaths|Assists|\n",
            "+--------------------+-----+------+-------+\n",
            "|  Connecting Esports| 8.87|  11.2|   19.2|\n",
            "|              Aporia| 3.25|  9.42|   8.58|\n",
            "|Illinois State Un...| 4.93|   8.2|  10.27|\n",
            "|       Colors Esport| 4.79|  8.13|   9.67|\n",
            "|       Domme Jongens| 6.92|  8.08|  13.83|\n",
            "|   Aethernum eSports| 3.48|  8.02|   6.98|\n",
            "|          Angry Bats|  4.0|   8.0|    9.0|\n",
            "|   St. Clair College| 3.07|  7.67|    7.6|\n",
            "|        Dream Makers| 5.46|  7.64|   12.0|\n",
            "|           GGEsports| 3.64|   7.6|    7.4|\n",
            "|          Team Plink| 4.33|   7.6|  11.13|\n",
            "|   Fullclear Esports|  5.0|   7.6|   9.92|\n",
            "|      AliorBank Team| 2.59|  7.52|   5.07|\n",
            "|               CYRUS| 4.62|  7.52|   10.1|\n",
            "|     Looking for ORG| 4.83|   7.5|  10.79|\n",
            "|Kelyx's Grandpa G...| 3.89|  7.44|   7.39|\n",
            "|        AXIZ Academy| 3.58|  7.42|   7.42|\n",
            "|    Away from Normal| 3.86|  7.29|    8.0|\n",
            "| Vertex Esports Club| 3.89|  7.25|   7.88|\n",
            "|    XtremeDominators| 2.43|  7.17|   4.45|\n",
            "+--------------------+-----+------+-------+\n",
            "only showing top 20 rows\n",
            "\n"
          ]
        }
      ]
    },
    {
      "cell_type": "code",
      "source": [
        "spark.sql(\"\"\"\n",
        "(SELECT teamname, ROUND(AVG(kills),2) as Kills,  ROUND(AVG(deaths),2) as Deaths,  ROUND(AVG(assists),2) as Assists\n",
        "FROM LoL_Match_df2023\n",
        "GROUP BY teamname\n",
        "ORDER BY Assists DESC)\n",
        "\"\"\").show()"
      ],
      "metadata": {
        "colab": {
          "base_uri": "https://localhost:8080/"
        },
        "id": "fPRUKJPMzSbx",
        "outputId": "f6d1167a-c50c-4336-c211-2942f7b66ac7"
      },
      "execution_count": 17,
      "outputs": [
        {
          "output_type": "stream",
          "name": "stdout",
          "text": [
            "+--------------------+-----+------+-------+\n",
            "|            teamname|Kills|Deaths|Assists|\n",
            "+--------------------+-----+------+-------+\n",
            "|            Nate9527|  8.5|   3.5|  20.28|\n",
            "|  Connecting Esports| 8.87|  11.2|   19.2|\n",
            "| Lundqvist Lightside|  8.0|  4.81|  18.48|\n",
            "|       Team Coachify| 7.51|   4.9|  17.54|\n",
            "|Back2TheGame Outlaws| 7.42|  4.79|  17.21|\n",
            "|    Teamless Revenge| 7.14|   6.1|  16.71|\n",
            "|       Team E Turner| 7.57|  5.38|  16.24|\n",
            "|      Geekay Esports| 6.58|  4.79|  16.15|\n",
            "|  KT Rolster Academy| 6.59|  4.73|  15.82|\n",
            "|   PSG Talon Academy| 5.96|  4.37|   15.3|\n",
            "|         Szaty Bobra| 6.37|  4.97|  15.27|\n",
            "|      Zylant Esports| 6.88|  3.97|  15.26|\n",
            "|         Team du Sud| 6.27|  3.37|  14.95|\n",
            "|             Dynasty| 6.41|  4.78|  14.87|\n",
            "|     Mirage Alliance| 6.42|  4.88|  14.74|\n",
            "|Hurricane of Feat...| 7.37|   6.8|   14.7|\n",
            "|       BRION Academy| 6.61|  5.42|  14.66|\n",
            "|            Goskilla| 6.48|  3.81|  14.52|\n",
            "|  Dplus KIA  Academy| 6.41|  5.26|   14.5|\n",
            "|     Movistar Riders| 6.14|   4.7|  14.18|\n",
            "+--------------------+-----+------+-------+\n",
            "only showing top 20 rows\n",
            "\n"
          ]
        }
      ]
    },
    {
      "cell_type": "code",
      "source": [
        "spark.sql(\"uncache table LoL_Match_dfALL\")\n",
        "spark.sql(\"uncache table LoL_Match_df2023\")"
      ],
      "metadata": {
        "id": "l0mIjwWAS21A",
        "colab": {
          "base_uri": "https://localhost:8080/"
        },
        "outputId": "76458f4b-08ee-40a6-d0a6-cdfd0ceef4ff"
      },
      "execution_count": 18,
      "outputs": [
        {
          "output_type": "execute_result",
          "data": {
            "text/plain": [
              "DataFrame[]"
            ]
          },
          "metadata": {},
          "execution_count": 18
        }
      ]
    }
  ]
}