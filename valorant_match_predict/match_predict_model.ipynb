{
 "cells": [
  {
   "cell_type": "code",
   "execution_count": 1,
   "metadata": {},
   "outputs": [],
   "source": [
    "import pandas as pd\n",
    "import numpy as np\n",
    "from sklearn.model_selection import train_test_split\n",
    "from sklearn.preprocessing import StandardScaler, LabelEncoder\n",
    "from sklearn.metrics import accuracy_score, classification_report, confusion_matrix\n",
    "import tensorflow as tf\n",
    "from tensorflow import keras\n",
    "from tensorflow.keras import layers\n",
    "from tkinter import Tk, Label, Button, StringVar, Entry, messagebox"
   ]
  },
  {
   "cell_type": "code",
   "execution_count": 2,
   "metadata": {},
   "outputs": [
    {
     "data": {
      "text/html": [
       "<div>\n",
       "<style scoped>\n",
       "    .dataframe tbody tr th:only-of-type {\n",
       "        vertical-align: middle;\n",
       "    }\n",
       "\n",
       "    .dataframe tbody tr th {\n",
       "        vertical-align: top;\n",
       "    }\n",
       "\n",
       "    .dataframe thead th {\n",
       "        text-align: right;\n",
       "    }\n",
       "</style>\n",
       "<table border=\"1\" class=\"dataframe\">\n",
       "  <thead>\n",
       "    <tr style=\"text-align: right;\">\n",
       "      <th></th>\n",
       "      <th>Team</th>\n",
       "      <th>MapName</th>\n",
       "      <th>Result</th>\n",
       "      <th>Margin</th>\n",
       "      <th>R</th>\n",
       "      <th>ACS</th>\n",
       "      <th>K</th>\n",
       "      <th>D</th>\n",
       "      <th>A</th>\n",
       "      <th>ADR</th>\n",
       "      <th>FK</th>\n",
       "      <th>FD</th>\n",
       "      <th>VS</th>\n",
       "    </tr>\n",
       "  </thead>\n",
       "  <tbody>\n",
       "    <tr>\n",
       "      <th>0</th>\n",
       "      <td>KOI</td>\n",
       "      <td>Icebox</td>\n",
       "      <td>Loss</td>\n",
       "      <td>-2</td>\n",
       "      <td>0.904</td>\n",
       "      <td>174.4</td>\n",
       "      <td>14.6</td>\n",
       "      <td>16.6</td>\n",
       "      <td>7.2</td>\n",
       "      <td>118.0</td>\n",
       "      <td>1.6</td>\n",
       "      <td>3.2</td>\n",
       "      <td>NRG</td>\n",
       "    </tr>\n",
       "    <tr>\n",
       "      <th>1</th>\n",
       "      <td>NRG</td>\n",
       "      <td>Icebox</td>\n",
       "      <td>Win</td>\n",
       "      <td>2</td>\n",
       "      <td>1.126</td>\n",
       "      <td>204.2</td>\n",
       "      <td>16.6</td>\n",
       "      <td>14.6</td>\n",
       "      <td>6.2</td>\n",
       "      <td>131.4</td>\n",
       "      <td>3.2</td>\n",
       "      <td>1.6</td>\n",
       "      <td>KOI</td>\n",
       "    </tr>\n",
       "    <tr>\n",
       "      <th>2</th>\n",
       "      <td>KOI</td>\n",
       "      <td>Haven</td>\n",
       "      <td>Loss</td>\n",
       "      <td>-4</td>\n",
       "      <td>0.866</td>\n",
       "      <td>166.6</td>\n",
       "      <td>12.4</td>\n",
       "      <td>13.8</td>\n",
       "      <td>5.4</td>\n",
       "      <td>107.2</td>\n",
       "      <td>1.6</td>\n",
       "      <td>2.8</td>\n",
       "      <td>NRG</td>\n",
       "    </tr>\n",
       "    <tr>\n",
       "      <th>3</th>\n",
       "      <td>NRG</td>\n",
       "      <td>Haven</td>\n",
       "      <td>Win</td>\n",
       "      <td>4</td>\n",
       "      <td>1.146</td>\n",
       "      <td>188.2</td>\n",
       "      <td>13.8</td>\n",
       "      <td>12.4</td>\n",
       "      <td>7.6</td>\n",
       "      <td>121.8</td>\n",
       "      <td>2.8</td>\n",
       "      <td>1.6</td>\n",
       "      <td>KOI</td>\n",
       "    </tr>\n",
       "    <tr>\n",
       "      <th>4</th>\n",
       "      <td>DFM</td>\n",
       "      <td>Haven</td>\n",
       "      <td>Loss</td>\n",
       "      <td>-9</td>\n",
       "      <td>0.574</td>\n",
       "      <td>154.4</td>\n",
       "      <td>9.0</td>\n",
       "      <td>14.2</td>\n",
       "      <td>3.2</td>\n",
       "      <td>102.8</td>\n",
       "      <td>1.4</td>\n",
       "      <td>2.0</td>\n",
       "      <td>GIA</td>\n",
       "    </tr>\n",
       "  </tbody>\n",
       "</table>\n",
       "</div>"
      ],
      "text/plain": [
       "  Team MapName Result  Margin      R    ACS     K     D    A    ADR   FK   FD  \\\n",
       "0  KOI  Icebox   Loss      -2  0.904  174.4  14.6  16.6  7.2  118.0  1.6  3.2   \n",
       "1  NRG  Icebox    Win       2  1.126  204.2  16.6  14.6  6.2  131.4  3.2  1.6   \n",
       "2  KOI   Haven   Loss      -4  0.866  166.6  12.4  13.8  5.4  107.2  1.6  2.8   \n",
       "3  NRG   Haven    Win       4  1.146  188.2  13.8  12.4  7.6  121.8  2.8  1.6   \n",
       "4  DFM   Haven   Loss      -9  0.574  154.4   9.0  14.2  3.2  102.8  1.4  2.0   \n",
       "\n",
       "    VS  \n",
       "0  NRG  \n",
       "1  KOI  \n",
       "2  NRG  \n",
       "3  KOI  \n",
       "4  GIA  "
      ]
     },
     "execution_count": 2,
     "metadata": {},
     "output_type": "execute_result"
    }
   ],
   "source": [
    "df = pd.read_csv('clean_formodel.csv')\n",
    "df.head()"
   ]
  },
  {
   "cell_type": "code",
   "execution_count": 3,
   "metadata": {},
   "outputs": [],
   "source": [
    "# Encode the 'Result' column to numerical values (0 for Loss, 1 for Win)\n",
    "le = LabelEncoder()\n",
    "df['Result'] = le.fit_transform(df['Result'])"
   ]
  },
  {
   "cell_type": "code",
   "execution_count": 4,
   "metadata": {},
   "outputs": [],
   "source": [
    "# Select features and target variable \n",
    "features = ['R', 'ACS', 'K', 'D', 'A', 'ADR', 'FK', 'FD', 'Margin']\n",
    "X = df[features]\n",
    "y = df['Result']\n",
    "# Split the dataset into training and testing sets\n",
    "X_train, X_test, y_train, y_test = train_test_split(X, y, test_size=0.3, random_state=42)"
   ]
  },
  {
   "cell_type": "code",
   "execution_count": 5,
   "metadata": {},
   "outputs": [],
   "source": [
    "\n",
    "# Standardize the features\n",
    "scaler = StandardScaler()\n",
    "X_train_scaled = scaler.fit_transform(X_train)\n",
    "X_test_scaled = scaler.transform(X_test)\n"
   ]
  },
  {
   "cell_type": "code",
   "execution_count": 6,
   "metadata": {},
   "outputs": [],
   "source": [
    "# Build a neural network model\n",
    "model = keras.Sequential([\n",
    "    layers.Dense(32, activation='relu', input_shape=(X_train_scaled.shape[1],)),\n",
    "    layers.Dropout(0.5),\n",
    "    layers.Dense(16, activation='relu'),\n",
    "    layers.Dropout(0.5),\n",
    "    layers.Dense(1, activation='sigmoid')\n",
    "])\n",
    "\n"
   ]
  },
  {
   "cell_type": "code",
   "execution_count": 7,
   "metadata": {},
   "outputs": [],
   "source": [
    "# Compile the model\n",
    "model.compile(optimizer='adam', loss='binary_crossentropy', metrics=['accuracy'])\n",
    "\n"
   ]
  },
  {
   "cell_type": "code",
   "execution_count": 8,
   "metadata": {},
   "outputs": [
    {
     "name": "stdout",
     "output_type": "stream",
     "text": [
      "Epoch 1/50\n",
      "7/7 [==============================] - 1s 33ms/step - loss: 0.7470 - accuracy: 0.5023 - val_loss: 0.6788 - val_accuracy: 0.5091\n",
      "Epoch 2/50\n",
      "7/7 [==============================] - 0s 8ms/step - loss: 0.6996 - accuracy: 0.5434 - val_loss: 0.6261 - val_accuracy: 0.6182\n",
      "Epoch 3/50\n",
      "7/7 [==============================] - 0s 8ms/step - loss: 0.6610 - accuracy: 0.5525 - val_loss: 0.5806 - val_accuracy: 0.7455\n",
      "Epoch 4/50\n",
      "7/7 [==============================] - 0s 7ms/step - loss: 0.6446 - accuracy: 0.6256 - val_loss: 0.5420 - val_accuracy: 0.8727\n",
      "Epoch 5/50\n",
      "7/7 [==============================] - 0s 9ms/step - loss: 0.5431 - accuracy: 0.7352 - val_loss: 0.5081 - val_accuracy: 0.8909\n",
      "Epoch 6/50\n",
      "7/7 [==============================] - 0s 8ms/step - loss: 0.5693 - accuracy: 0.7032 - val_loss: 0.4771 - val_accuracy: 0.8909\n",
      "Epoch 7/50\n",
      "7/7 [==============================] - 0s 8ms/step - loss: 0.5053 - accuracy: 0.7352 - val_loss: 0.4480 - val_accuracy: 0.9091\n",
      "Epoch 8/50\n",
      "7/7 [==============================] - 0s 8ms/step - loss: 0.4991 - accuracy: 0.7397 - val_loss: 0.4196 - val_accuracy: 0.9455\n",
      "Epoch 9/50\n",
      "7/7 [==============================] - 0s 9ms/step - loss: 0.4964 - accuracy: 0.7580 - val_loss: 0.3920 - val_accuracy: 0.9455\n",
      "Epoch 10/50\n",
      "7/7 [==============================] - 0s 9ms/step - loss: 0.4623 - accuracy: 0.7671 - val_loss: 0.3640 - val_accuracy: 0.9636\n",
      "Epoch 11/50\n",
      "7/7 [==============================] - 0s 8ms/step - loss: 0.4203 - accuracy: 0.8037 - val_loss: 0.3359 - val_accuracy: 0.9636\n",
      "Epoch 12/50\n",
      "7/7 [==============================] - 0s 8ms/step - loss: 0.4113 - accuracy: 0.7900 - val_loss: 0.3090 - val_accuracy: 0.9636\n",
      "Epoch 13/50\n",
      "7/7 [==============================] - 0s 8ms/step - loss: 0.4014 - accuracy: 0.8219 - val_loss: 0.2811 - val_accuracy: 0.9636\n",
      "Epoch 14/50\n",
      "7/7 [==============================] - 0s 7ms/step - loss: 0.3801 - accuracy: 0.8493 - val_loss: 0.2575 - val_accuracy: 0.9636\n",
      "Epoch 15/50\n",
      "7/7 [==============================] - 0s 7ms/step - loss: 0.3408 - accuracy: 0.8311 - val_loss: 0.2369 - val_accuracy: 0.9818\n",
      "Epoch 16/50\n",
      "7/7 [==============================] - 0s 7ms/step - loss: 0.3177 - accuracy: 0.8402 - val_loss: 0.2181 - val_accuracy: 0.9818\n",
      "Epoch 17/50\n",
      "7/7 [==============================] - 0s 7ms/step - loss: 0.3239 - accuracy: 0.8539 - val_loss: 0.2039 - val_accuracy: 0.9818\n",
      "Epoch 18/50\n",
      "7/7 [==============================] - 0s 7ms/step - loss: 0.3170 - accuracy: 0.8630 - val_loss: 0.1891 - val_accuracy: 0.9818\n",
      "Epoch 19/50\n",
      "7/7 [==============================] - 0s 7ms/step - loss: 0.2729 - accuracy: 0.9041 - val_loss: 0.1776 - val_accuracy: 0.9818\n",
      "Epoch 20/50\n",
      "7/7 [==============================] - 0s 6ms/step - loss: 0.2930 - accuracy: 0.8813 - val_loss: 0.1665 - val_accuracy: 0.9636\n",
      "Epoch 21/50\n",
      "7/7 [==============================] - 0s 7ms/step - loss: 0.2982 - accuracy: 0.8858 - val_loss: 0.1563 - val_accuracy: 0.9636\n",
      "Epoch 22/50\n",
      "7/7 [==============================] - 0s 7ms/step - loss: 0.2787 - accuracy: 0.8767 - val_loss: 0.1463 - val_accuracy: 0.9818\n",
      "Epoch 23/50\n",
      "7/7 [==============================] - 0s 7ms/step - loss: 0.2618 - accuracy: 0.8858 - val_loss: 0.1372 - val_accuracy: 0.9818\n",
      "Epoch 24/50\n",
      "7/7 [==============================] - 0s 6ms/step - loss: 0.2507 - accuracy: 0.8950 - val_loss: 0.1284 - val_accuracy: 0.9818\n",
      "Epoch 25/50\n",
      "7/7 [==============================] - 0s 16ms/step - loss: 0.2824 - accuracy: 0.8858 - val_loss: 0.1211 - val_accuracy: 0.9818\n",
      "Epoch 26/50\n",
      "7/7 [==============================] - 0s 8ms/step - loss: 0.2154 - accuracy: 0.9224 - val_loss: 0.1144 - val_accuracy: 0.9818\n",
      "Epoch 27/50\n",
      "7/7 [==============================] - 0s 15ms/step - loss: 0.2476 - accuracy: 0.9178 - val_loss: 0.1095 - val_accuracy: 0.9818\n",
      "Epoch 28/50\n",
      "7/7 [==============================] - 0s 8ms/step - loss: 0.2019 - accuracy: 0.9224 - val_loss: 0.1035 - val_accuracy: 0.9818\n",
      "Epoch 29/50\n",
      "7/7 [==============================] - 0s 8ms/step - loss: 0.2136 - accuracy: 0.9406 - val_loss: 0.0986 - val_accuracy: 0.9818\n",
      "Epoch 30/50\n",
      "7/7 [==============================] - 0s 9ms/step - loss: 0.2006 - accuracy: 0.9452 - val_loss: 0.0957 - val_accuracy: 0.9818\n",
      "Epoch 31/50\n",
      "7/7 [==============================] - 0s 7ms/step - loss: 0.2141 - accuracy: 0.9041 - val_loss: 0.0938 - val_accuracy: 0.9818\n",
      "Epoch 32/50\n",
      "7/7 [==============================] - 0s 6ms/step - loss: 0.2298 - accuracy: 0.9269 - val_loss: 0.0909 - val_accuracy: 0.9818\n",
      "Epoch 33/50\n",
      "7/7 [==============================] - 0s 6ms/step - loss: 0.1874 - accuracy: 0.9361 - val_loss: 0.0862 - val_accuracy: 0.9818\n",
      "Epoch 34/50\n",
      "7/7 [==============================] - 0s 7ms/step - loss: 0.2194 - accuracy: 0.9269 - val_loss: 0.0825 - val_accuracy: 0.9818\n",
      "Epoch 35/50\n",
      "7/7 [==============================] - 0s 6ms/step - loss: 0.1792 - accuracy: 0.9315 - val_loss: 0.0786 - val_accuracy: 0.9818\n",
      "Epoch 36/50\n",
      "7/7 [==============================] - 0s 7ms/step - loss: 0.2030 - accuracy: 0.9315 - val_loss: 0.0746 - val_accuracy: 0.9818\n",
      "Epoch 37/50\n",
      "7/7 [==============================] - 0s 7ms/step - loss: 0.1770 - accuracy: 0.9315 - val_loss: 0.0719 - val_accuracy: 0.9818\n",
      "Epoch 38/50\n",
      "7/7 [==============================] - 0s 7ms/step - loss: 0.1412 - accuracy: 0.9452 - val_loss: 0.0701 - val_accuracy: 0.9818\n",
      "Epoch 39/50\n",
      "7/7 [==============================] - 0s 7ms/step - loss: 0.1663 - accuracy: 0.9315 - val_loss: 0.0679 - val_accuracy: 0.9818\n",
      "Epoch 40/50\n",
      "7/7 [==============================] - 0s 7ms/step - loss: 0.1584 - accuracy: 0.9269 - val_loss: 0.0656 - val_accuracy: 0.9818\n",
      "Epoch 41/50\n",
      "7/7 [==============================] - 0s 8ms/step - loss: 0.1767 - accuracy: 0.9087 - val_loss: 0.0610 - val_accuracy: 0.9818\n",
      "Epoch 42/50\n",
      "7/7 [==============================] - 0s 7ms/step - loss: 0.1416 - accuracy: 0.9589 - val_loss: 0.0567 - val_accuracy: 0.9818\n",
      "Epoch 43/50\n",
      "7/7 [==============================] - 0s 7ms/step - loss: 0.1342 - accuracy: 0.9589 - val_loss: 0.0543 - val_accuracy: 0.9818\n",
      "Epoch 44/50\n",
      "7/7 [==============================] - 0s 6ms/step - loss: 0.1301 - accuracy: 0.9452 - val_loss: 0.0502 - val_accuracy: 0.9818\n",
      "Epoch 45/50\n",
      "7/7 [==============================] - 0s 7ms/step - loss: 0.1113 - accuracy: 0.9726 - val_loss: 0.0475 - val_accuracy: 0.9818\n",
      "Epoch 46/50\n",
      "7/7 [==============================] - 0s 7ms/step - loss: 0.1357 - accuracy: 0.9452 - val_loss: 0.0447 - val_accuracy: 0.9818\n",
      "Epoch 47/50\n",
      "7/7 [==============================] - 0s 8ms/step - loss: 0.1526 - accuracy: 0.9269 - val_loss: 0.0438 - val_accuracy: 0.9818\n",
      "Epoch 48/50\n",
      "7/7 [==============================] - 0s 7ms/step - loss: 0.1332 - accuracy: 0.9452 - val_loss: 0.0443 - val_accuracy: 0.9818\n",
      "Epoch 49/50\n",
      "7/7 [==============================] - 0s 7ms/step - loss: 0.1269 - accuracy: 0.9680 - val_loss: 0.0438 - val_accuracy: 0.9818\n",
      "Epoch 50/50\n",
      "7/7 [==============================] - 0s 8ms/step - loss: 0.1366 - accuracy: 0.9452 - val_loss: 0.0436 - val_accuracy: 0.9818\n"
     ]
    },
    {
     "data": {
      "text/plain": [
       "<keras.src.callbacks.History at 0x1e0dc444d90>"
      ]
     },
     "execution_count": 8,
     "metadata": {},
     "output_type": "execute_result"
    }
   ],
   "source": [
    "# Train the model\n",
    "model.fit(X_train_scaled, y_train, epochs=50, batch_size=32, validation_split=0.2)"
   ]
  },
  {
   "cell_type": "code",
   "execution_count": 9,
   "metadata": {},
   "outputs": [
    {
     "name": "stdout",
     "output_type": "stream",
     "text": [
      "4/4 [==============================] - 0s 3ms/step\n"
     ]
    }
   ],
   "source": [
    "# Evaluate the model on the test set\n",
    "y_pred_proba = model.predict(X_test_scaled)\n",
    "y_pred = (y_pred_proba > 0.5).astype(int)"
   ]
  },
  {
   "cell_type": "code",
   "execution_count": 12,
   "metadata": {},
   "outputs": [
    {
     "name": "stdout",
     "output_type": "stream",
     "text": [
      "Confusion Matrix:\n",
      " [[63  0]\n",
      " [ 4 51]]\n"
     ]
    }
   ],
   "source": [
    "# Confusion Matrix\n",
    "conf_matrix = confusion_matrix(y_test, y_pred)\n",
    "print(\"Confusion Matrix:\\n\", conf_matrix)"
   ]
  },
  {
   "cell_type": "code",
   "execution_count": 10,
   "metadata": {},
   "outputs": [
    {
     "name": "stdout",
     "output_type": "stream",
     "text": [
      "Accuracy: 0.9661016949152542\n",
      "Classification Report:\n",
      "               precision    recall  f1-score   support\n",
      "\n",
      "           0       0.94      1.00      0.97        63\n",
      "           1       1.00      0.93      0.96        55\n",
      "\n",
      "    accuracy                           0.97       118\n",
      "   macro avg       0.97      0.96      0.97       118\n",
      "weighted avg       0.97      0.97      0.97       118\n",
      "\n"
     ]
    }
   ],
   "source": [
    "# Evaluate the model\n",
    "accuracy = accuracy_score(y_test, y_pred)\n",
    "classification_rep = classification_report(y_test, y_pred)\n",
    "\n",
    "print(f\"Accuracy: {accuracy}\")\n",
    "print(\"Classification Report:\\n\", classification_rep)"
   ]
  },
  {
   "cell_type": "code",
   "execution_count": 11,
   "metadata": {},
   "outputs": [],
   "source": [
    "def show_prediction():\n",
    "    team1_name = team1_entry.get().upper()\n",
    "    team2_name = team2_entry.get().upper()\n",
    "\n",
    "    # Check if the entered team names exist in the dataset\n",
    "    if team1_name not in df['Team'].values or team2_name not in df['Team'].values:\n",
    "        messagebox.showerror(\"Error\", \"One or both of the entered team names do not exist in the dataset.\")\n",
    "        return\n",
    "\n",
    "    # Fetch data for the teams\n",
    "    team1_data = df[df['Team'] == team1_name][features].mean().values.reshape(1, -1)\n",
    "    team2_data = df[df['Team'] == team2_name][features].mean().values.reshape(1, -1)\n",
    "\n",
    "    # Standardize the data\n",
    "    team1_data_scaled = scaler.transform(team1_data)\n",
    "    team2_data_scaled = scaler.transform(team2_data)\n",
    "\n",
    "    # Predict\n",
    "    team1_pred_proba = model.predict(team1_data_scaled)\n",
    "    team2_pred_proba = model.predict(team2_data_scaled)\n",
    "\n",
    "    # Ensure probabilities sum to 100%\n",
    "    total_probability = team1_pred_proba[0][0] + team2_pred_proba[0][0]\n",
    "    team1_percentage = (team1_pred_proba[0][0] / total_probability) * 100\n",
    "    team2_percentage = (team2_pred_proba[0][0] / total_probability) * 100\n",
    "\n",
    "    # Display results\n",
    "    result_str = (\n",
    "        f\"{team1_name} Win Probability: {team1_percentage:.2f}%\\n\"\n",
    "        f\"{team2_name} Win Probability: {team2_percentage:.2f}%\"\n",
    "    )\n",
    "    messagebox.showinfo(\"Match Prediction\", result_str)\n"
   ]
  },
  {
   "cell_type": "code",
   "execution_count": 10,
   "metadata": {},
   "outputs": [
    {
     "name": "stdout",
     "output_type": "stream",
     "text": [
      "1/1 [==============================] - 0s 121ms/step\n"
     ]
    },
    {
     "name": "stderr",
     "output_type": "stream",
     "text": [
      "c:\\Users\\bando\\Anaconda3\\lib\\site-packages\\sklearn\\base.py:420: UserWarning: X does not have valid feature names, but StandardScaler was fitted with feature names\n",
      "  warnings.warn(\n",
      "c:\\Users\\bando\\Anaconda3\\lib\\site-packages\\sklearn\\base.py:420: UserWarning: X does not have valid feature names, but StandardScaler was fitted with feature names\n",
      "  warnings.warn(\n"
     ]
    },
    {
     "name": "stdout",
     "output_type": "stream",
     "text": [
      "1/1 [==============================] - 0s 27ms/step\n",
      "1/1 [==============================] - 0s 21ms/step\n",
      "1/1 [==============================] - 0s 25ms/step\n"
     ]
    },
    {
     "name": "stderr",
     "output_type": "stream",
     "text": [
      "c:\\Users\\bando\\Anaconda3\\lib\\site-packages\\sklearn\\base.py:420: UserWarning: X does not have valid feature names, but StandardScaler was fitted with feature names\n",
      "  warnings.warn(\n",
      "c:\\Users\\bando\\Anaconda3\\lib\\site-packages\\sklearn\\base.py:420: UserWarning: X does not have valid feature names, but StandardScaler was fitted with feature names\n",
      "  warnings.warn(\n"
     ]
    },
    {
     "name": "stdout",
     "output_type": "stream",
     "text": [
      "1/1 [==============================] - 0s 36ms/step\n",
      "1/1 [==============================] - 0s 24ms/step\n"
     ]
    },
    {
     "name": "stderr",
     "output_type": "stream",
     "text": [
      "c:\\Users\\bando\\Anaconda3\\lib\\site-packages\\sklearn\\base.py:420: UserWarning: X does not have valid feature names, but StandardScaler was fitted with feature names\n",
      "  warnings.warn(\n",
      "c:\\Users\\bando\\Anaconda3\\lib\\site-packages\\sklearn\\base.py:420: UserWarning: X does not have valid feature names, but StandardScaler was fitted with feature names\n",
      "  warnings.warn(\n"
     ]
    }
   ],
   "source": [
    "# Create GUI\n",
    "root = Tk()\n",
    "root.title(\"Valorant Match Prediction\")\n",
    "\n",
    "# Team 1 Entry\n",
    "Label(root, text=\"Enter Team 1:\").grid(row=0, column=0)\n",
    "team1_entry = Entry(root)\n",
    "team1_entry.grid(row=0, column=1)\n",
    "\n",
    "# Team 2 Entry\n",
    "Label(root, text=\"Enter Team 2:\").grid(row=1, column=0)\n",
    "team2_entry = Entry(root)\n",
    "team2_entry.grid(row=1, column=1)\n",
    "\n",
    "# Predict Button\n",
    "predict_button = Button(root, text=\"Predict\", command=show_prediction)\n",
    "predict_button.grid(row=2, column=0, columnspan=2)\n",
    "\n",
    "# Run the GUI\n",
    "root.mainloop()"
   ]
  }
 ],
 "metadata": {
  "kernelspec": {
   "display_name": "base",
   "language": "python",
   "name": "python3"
  },
  "language_info": {
   "codemirror_mode": {
    "name": "ipython",
    "version": 3
   },
   "file_extension": ".py",
   "mimetype": "text/x-python",
   "name": "python",
   "nbconvert_exporter": "python",
   "pygments_lexer": "ipython3",
   "version": "3.9.16"
  }
 },
 "nbformat": 4,
 "nbformat_minor": 2
}
